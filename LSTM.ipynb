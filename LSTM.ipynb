{
  "nbformat": 4,
  "nbformat_minor": 0,
  "metadata": {
    "colab": {
      "provenance": []
    },
    "kernelspec": {
      "name": "python3",
      "display_name": "Python 3"
    },
    "language_info": {
      "name": "python"
    }
  },
  "cells": [
    {
      "cell_type": "code",
      "execution_count": null,
      "metadata": {
        "id": "haRJ5HT91TkO"
      },
      "outputs": [],
      "source": [
        "import pandas as pd\n",
        "import numpy as np\n",
        "import matplotlib.pyplot as plt\n",
        "from sklearn.preprocessing import MinMaxScaler"
      ]
    },
    {
      "cell_type": "code",
      "source": [
        "df = pd.read_csv('/content/sample_data/2025-grievances.csv')"
      ],
      "metadata": {
        "id": "rEVE4zrdAqL2"
      },
      "execution_count": null,
      "outputs": []
    },
    {
      "cell_type": "code",
      "source": [
        "print(df.head())\n",
        "print(df.columns)"
      ],
      "metadata": {
        "id": "IirgPQqzBct6"
      },
      "execution_count": null,
      "outputs": []
    },
    {
      "cell_type": "code",
      "source": [],
      "metadata": {
        "id": "uvmGl6jvBjP0"
      },
      "execution_count": null,
      "outputs": []
    },
    {
      "cell_type": "code",
      "source": [
        "df['Grievance Date'] = pd.to_datetime(df['Grievance Date'])\n",
        "mask = df['Sub Category'] == 'Street Light Not Working'\n",
        "df_sub = df[mask]\n",
        "daily = df_sub.groupby(df_sub[\"Grievance Date\"].dt.date).size().reset_index(name = 'count')"
      ],
      "metadata": {
        "id": "UszCs97zBf73"
      },
      "execution_count": null,
      "outputs": []
    },
    {
      "cell_type": "code",
      "source": [
        "daily['date'] = pd.to_datetime(daily['Grievance Date'])\n",
        "daily = daily[['date','count']]\n"
      ],
      "metadata": {
        "id": "hT02DlOGBjqv"
      },
      "execution_count": null,
      "outputs": []
    },
    {
      "cell_type": "code",
      "source": [
        "full_range = pd.date_range(daily['date'].min(),daily['date'].max(),freq = 'D')"
      ],
      "metadata": {
        "id": "VE_Gyo0DC_rA"
      },
      "execution_count": null,
      "outputs": []
    },
    {
      "cell_type": "code",
      "source": [
        "daily = daily.set_index('date').reindex(full_range, fill_value=0).rename_axis('date').reset_index()\n",
        "\n",
        "print(daily.head(10))"
      ],
      "metadata": {
        "id": "D-Cc8URZDUOj"
      },
      "execution_count": null,
      "outputs": []
    },
    {
      "cell_type": "markdown",
      "source": [
        "Add Seasonality Feature"
      ],
      "metadata": {
        "id": "i_kuL0lrDnFo"
      }
    },
    {
      "cell_type": "code",
      "source": [
        "daily['month'] = daily['date'].dt.month"
      ],
      "metadata": {
        "id": "8Ul9eRsrDtCS"
      },
      "execution_count": null,
      "outputs": []
    },
    {
      "cell_type": "code",
      "source": [
        "def get_season(month):\n",
        "    if month in [6]:\n",
        "      return 'Monsoon'\n",
        "    elif month in [3,4,5]:\n",
        "      return 'Summer'\n",
        "    elif month in [11,12,1,2]:\n",
        "      return 'Winter'\n",
        "    else: return 'Post-monsoon'"
      ],
      "metadata": {
        "id": "RwRga4MuD04W"
      },
      "execution_count": null,
      "outputs": []
    },
    {
      "cell_type": "code",
      "source": [],
      "metadata": {
        "id": "W9IUbG5oE6KR"
      },
      "execution_count": null,
      "outputs": []
    },
    {
      "cell_type": "markdown",
      "source": [
        "Festival data"
      ],
      "metadata": {
        "id": "FCC7VjEFE8gf"
      }
    },
    {
      "cell_type": "code",
      "source": [
        "festival_dates = [\n",
        "    '2025-03-29',  # e.g., Ugadi\n",
        "    '2025-04-12',  # e.g., Ram Navami\n",
        "    '2025-05-16',  # Add more as needed\n",
        "]\n",
        "daily['is_festival'] = daily['date'].astype(str).isin(festival_dates).astype(int)\n",
        "\n",
        "print(daily.head(10))"
      ],
      "metadata": {
        "id": "6bu-jAPRFBHx"
      },
      "execution_count": null,
      "outputs": []
    },
    {
      "cell_type": "code",
      "source": [
        "def get_season(month):\n",
        "  if month == 6:\n",
        "    return 1\n",
        "  elif month in [3,4,5]:\n",
        "    return 2\n",
        "  elif month in [11,12,1,2]:\n",
        "    return 3\n",
        "  else:\n",
        "    return 4\n",
        "daily['season'] = daily['month'].apply(get_season)"
      ],
      "metadata": {
        "id": "MPwgoov4F0Hy"
      },
      "execution_count": null,
      "outputs": []
    },
    {
      "cell_type": "code",
      "source": [],
      "metadata": {
        "id": "jgFPj9RbG9RK"
      },
      "execution_count": null,
      "outputs": []
    },
    {
      "cell_type": "markdown",
      "source": [
        "LSTM DATA PROCESSING"
      ],
      "metadata": {
        "id": "y3PkZVeGG_Uu"
      }
    },
    {
      "cell_type": "markdown",
      "source": [
        "select features for model"
      ],
      "metadata": {
        "id": "ANWDNO6-IYyO"
      }
    },
    {
      "cell_type": "code",
      "source": [
        "features = ['count','month','season','is_festival']\n",
        "X_all = daily[features].values.astype(float)"
      ],
      "metadata": {
        "id": "NVp9JGfnHCrr"
      },
      "execution_count": null,
      "outputs": []
    },
    {
      "cell_type": "markdown",
      "source": [
        "normalization"
      ],
      "metadata": {
        "id": "hLNrfzNEIcXx"
      }
    },
    {
      "cell_type": "code",
      "source": [
        "scaler = MinMaxScaler()\n",
        "X_all_scaled = scaler.fit_transform(X_all)"
      ],
      "metadata": {
        "id": "8R3QJPB2If5s"
      },
      "execution_count": null,
      "outputs": []
    },
    {
      "cell_type": "code",
      "source": [
        "# Prepare sliding windows for LSTM (e.g., 30-day sequences)\n",
        "sequence_length = 30"
      ],
      "metadata": {
        "id": "8vt8vNF6I4ra"
      },
      "execution_count": null,
      "outputs": []
    },
    {
      "cell_type": "code",
      "source": [
        "def create_sequences(data, seq_len):\n",
        "    X, y = [], []\n",
        "    for i in range(len(data) - seq_len):\n",
        "        X.append(data[i:i+seq_len])\n",
        "        y.append(data[i+seq_len][0])  # Predict 'count'\n",
        "    return np.array(X), np.array(y)\n",
        "\n",
        "X, y = create_sequences(X_all_scaled, sequence_length)\n",
        "print(X.shape, y.shape)"
      ],
      "metadata": {
        "id": "PTjT69cwI7Db"
      },
      "execution_count": null,
      "outputs": []
    },
    {
      "cell_type": "code",
      "source": [
        "from statsmodels.tsa.seasonal import seasonal_decompose"
      ],
      "metadata": {
        "id": "jI4loodEBmEB"
      },
      "execution_count": null,
      "outputs": []
    },
    {
      "cell_type": "markdown",
      "source": [
        "Split the data and Build the LSTM Model"
      ],
      "metadata": {
        "id": "8vnP20ndJIwi"
      }
    },
    {
      "cell_type": "code",
      "source": [
        "import tensorflow as tf\n",
        "from tensorflow.keras.models import Sequential\n",
        "from tensorflow.keras.layers import LSTM, Dense"
      ],
      "metadata": {
        "id": "HM2kcPvtB1cV"
      },
      "execution_count": null,
      "outputs": []
    },
    {
      "cell_type": "markdown",
      "source": [
        "Train/test"
      ],
      "metadata": {
        "id": "W6aZdJQCJSAT"
      }
    },
    {
      "cell_type": "code",
      "source": [
        "split = int(0.8 * len(X))\n",
        "X_train, X_test = X[:split], X[split:]\n",
        "y_train, y_test = y[:split], y[split:]"
      ],
      "metadata": {
        "id": "AHzgT4QYB83t"
      },
      "execution_count": null,
      "outputs": []
    },
    {
      "cell_type": "code",
      "source": [
        "model = Sequential([\n",
        "    LSTM(64, activation='relu', input_shape=(X_train.shape[1], X_train.shape[2])),\n",
        "    Dense(1)\n",
        "])"
      ],
      "metadata": {
        "id": "OFkZKkvYJnAh"
      },
      "execution_count": null,
      "outputs": []
    },
    {
      "cell_type": "code",
      "source": [
        "model.compile(optimizer='adam', loss='mse')\n",
        "history = model.fit(X_train, y_train, epochs=30, batch_size=8, validation_data=(X_test, y_test))"
      ],
      "metadata": {
        "id": "0iQBdR1EJqFt"
      },
      "execution_count": null,
      "outputs": []
    },
    {
      "cell_type": "markdown",
      "source": [
        "Evaluate and Visualize Predictions"
      ],
      "metadata": {
        "id": "bbRva9eHJwIr"
      }
    },
    {
      "cell_type": "code",
      "source": [
        "preds = model.predict(X_test)\n",
        "X_full = np.zeros((len(preds),len(features)))\n",
        "X_full[:,0] = preds[:,0]\n",
        "y_pred_inv = scaler.inverse_transform(X_full)[:,0]\n",
        "\n",
        "y_true_full = np.zeros((len(y_test), len(features)))\n",
        "y_true_full[:,0] = y_test\n",
        "y_test_inv = scaler.inverse_transform(y_true_full)[:,0]\n"
      ],
      "metadata": {
        "id": "Mkhq11CeJxdU"
      },
      "execution_count": null,
      "outputs": []
    },
    {
      "cell_type": "code",
      "source": [
        "plt.figure(figsize=(10,4))\n",
        "plt.plot(y_test_inv, label='Actual')\n",
        "plt.plot(y_pred_inv, label='Predicted')\n",
        "plt.legend()\n",
        "plt.title('LSTM Forecast (with Seasonality)')\n",
        "plt.xlabel('Test Sample Index')\n",
        "plt.ylabel('Daily Complaints')\n",
        "plt.grid()\n",
        "plt.show()"
      ],
      "metadata": {
        "id": "oRLbakgAK6hB"
      },
      "execution_count": null,
      "outputs": []
    },
    {
      "cell_type": "code",
      "source": [
        "scaler = MinMaxScaler()"
      ],
      "metadata": {
        "id": "t13eKx4LCBK9"
      },
      "execution_count": null,
      "outputs": []
    },
    {
      "cell_type": "code",
      "source": [
        "df.head(),df.tail()"
      ],
      "metadata": {
        "id": "FRG6P7chCJNE"
      },
      "execution_count": null,
      "outputs": []
    },
    {
      "cell_type": "code",
      "source": [
        "scaler.fit(train)\n",
        "scaled_train = scaler.transform(train)\n",
        "scaled_test = scaler.transform(test)"
      ],
      "metadata": {
        "id": "n8tNtGbTCdkR"
      },
      "execution_count": null,
      "outputs": []
    },
    {
      "cell_type": "code",
      "source": [
        "scaled_train[:10]"
      ],
      "metadata": {
        "id": "N-Ag9q3kAVl5"
      },
      "execution_count": null,
      "outputs": []
    },
    {
      "cell_type": "code",
      "source": [
        "from tensorflow.keras.preprocessing.sequence import TimeseriesGenerator\n"
      ],
      "metadata": {
        "id": "eqCB8YRvBfYw"
      },
      "execution_count": null,
      "outputs": []
    },
    {
      "cell_type": "code",
      "source": [
        "n_input = 3\n",
        "n_features = 1\n",
        "generator = TimeseriesGenerator(scaled_train,scaled_train,length=n_input,batch_size=1)"
      ],
      "metadata": {
        "id": "WFJIde10Cuip"
      },
      "execution_count": null,
      "outputs": []
    },
    {
      "cell_type": "code",
      "source": [
        "\n",
        "X,y = generator[0]\n",
        "print(f'Given the Array: \\n{X.flatten()}')\n",
        "print(f'Predict this y: \\n {y}')\n"
      ],
      "metadata": {
        "id": "t56B9coIDMkf"
      },
      "execution_count": null,
      "outputs": []
    },
    {
      "cell_type": "code",
      "source": [
        "X.shape"
      ],
      "metadata": {
        "id": "El1xZAxEDUHW"
      },
      "execution_count": null,
      "outputs": []
    },
    {
      "cell_type": "code",
      "source": [
        "\n",
        "# We do the same thing, but now instead for 12 months\n",
        "n_input = 12\n",
        "generator = TimeseriesGenerator(scaled_train, scaled_train, length=n_input, batch_size=1)"
      ],
      "metadata": {
        "id": "39RyMJzKDYf6"
      },
      "execution_count": null,
      "outputs": []
    },
    {
      "cell_type": "code",
      "source": [
        "from keras.models import Sequential\n",
        "from keras.layers import Dense\n",
        "from keras.layers import LSTM"
      ],
      "metadata": {
        "id": "zxRSU5c9DakJ"
      },
      "execution_count": null,
      "outputs": []
    },
    {
      "cell_type": "code",
      "source": [
        "\n",
        "# define model\n",
        "model = Sequential()\n",
        "model.add(LSTM(100, activation='relu', input_shape=(n_input, n_features)))\n",
        "model.add(Dense(1))\n",
        "model.compile(optimizer='adam', loss='mse')"
      ],
      "metadata": {
        "id": "CJ9722PfDl4P"
      },
      "execution_count": null,
      "outputs": []
    },
    {
      "cell_type": "code",
      "source": [
        "model.summary()"
      ],
      "metadata": {
        "id": "KoKZtAoJEVKs"
      },
      "execution_count": null,
      "outputs": []
    },
    {
      "cell_type": "code",
      "source": [
        "model.fit(generator,epochs=50)"
      ],
      "metadata": {
        "id": "LLBx-4CkEUoU"
      },
      "execution_count": null,
      "outputs": []
    },
    {
      "cell_type": "code",
      "source": [
        "loss_per_epoch = model.history.history['loss']\n",
        "plt.plot(range(len(loss_per_epoch)),loss_per_epoch)"
      ],
      "metadata": {
        "id": "sQzkh3I3Evi8"
      },
      "execution_count": null,
      "outputs": []
    },
    {
      "cell_type": "code",
      "source": [
        "last_train_batch = scaled_train[-12:]"
      ],
      "metadata": {
        "id": "Pd3RrY-bEyM0"
      },
      "execution_count": null,
      "outputs": []
    },
    {
      "cell_type": "code",
      "source": [
        "last_train_batch = last_train_batch.reshape((1, n_input, n_features))"
      ],
      "metadata": {
        "id": "sGUAJc11E4Qk"
      },
      "execution_count": null,
      "outputs": []
    },
    {
      "cell_type": "code",
      "source": [
        "\n",
        "\n",
        "model.predict(last_train_batch)"
      ],
      "metadata": {
        "id": "i28aXAyEE9L2"
      },
      "execution_count": null,
      "outputs": []
    },
    {
      "cell_type": "code",
      "source": [
        "scaled_test[0]"
      ],
      "metadata": {
        "id": "GlxcTMgxE_Dz"
      },
      "execution_count": null,
      "outputs": []
    },
    {
      "cell_type": "code",
      "source": [
        "test_predictions = []\n",
        "\n",
        "first_eval_batch = scaled_train[-n_input:]\n",
        "current_batch = first_eval_batch.reshape((1, n_input, n_features)) #reshaping the last 12 values\n",
        "\n",
        "for i in range(len(test)):\n",
        "\n",
        "    # get the prediction value for the first batch\n",
        "    current_pred = model.predict(current_batch)[0]\n",
        "\n",
        "    # append the prediction into the array\n",
        "    test_predictions.append(current_pred)\n",
        "\n",
        "    # use the prediction to update the batch and remove the first value\n",
        "    current_batch = np.append(current_batch[:,1:,:],[[current_pred]],axis=1)"
      ],
      "metadata": {
        "id": "h-gYkDlaFDKQ"
      },
      "execution_count": null,
      "outputs": []
    },
    {
      "cell_type": "code",
      "source": [
        "test_predictions"
      ],
      "metadata": {
        "id": "DPtl6XCFFI6G"
      },
      "execution_count": null,
      "outputs": []
    },
    {
      "cell_type": "code",
      "source": [
        "test.head()"
      ],
      "metadata": {
        "id": "IyA_E2lIFN3y"
      },
      "execution_count": null,
      "outputs": []
    },
    {
      "cell_type": "code",
      "source": [
        "\n",
        "true_predictions = scaler.inverse_transform(test_predictions)\n",
        "\n",
        "\n",
        "test['Predictions'] = true_predictions\n",
        "\n",
        "\n",
        "test.plot(figsize=(14,5))"
      ],
      "metadata": {
        "id": "AJhWNkIAFRlS"
      },
      "execution_count": null,
      "outputs": []
    },
    {
      "cell_type": "code",
      "source": [
        "from sklearn.metrics import mean_squared_error\n",
        "from math import sqrt\n",
        "rmse=sqrt(mean_squared_error(test['Production'],test['Predictions']))\n",
        "print(rmse)"
      ],
      "metadata": {
        "id": "dRYGkPkvFlea"
      },
      "execution_count": null,
      "outputs": []
    }
  ]
}