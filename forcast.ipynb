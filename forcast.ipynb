{
  "cells": [
    {
      "cell_type": "code",
      "execution_count": 536,
      "metadata": {
        "id": "4k6OCpMsTA29"
      },
      "outputs": [],
      "source": [
        "import pandas as pd\n",
        "import numpy as np\n",
        "import matplotlib.pyplot as plt\n",
        "from sklearn.preprocessing import MinMaxScaler\n",
        "from sklearn.metrics import mean_absolute_error, mean_squared_error\n",
        "import ipywidgets as widgets\n",
        "from IPython.display import display, clear_output"
      ]
    },
    {
      "cell_type": "code",
      "execution_count": 537,
      "metadata": {
        "id": "P5dWIKi4THid"
      },
      "outputs": [],
      "source": [
        "df = pd.read_csv('/content/sample_data/2025-grievances.csv')\n",
        "df['Grievance Date'] = pd.to_datetime(df['Grievance Date'])"
      ]
    },
    {
      "cell_type": "code",
      "execution_count": 538,
      "metadata": {
        "id": "4Sv2KRe3TlrO"
      },
      "outputs": [],
      "source": [
        "\n",
        "mask = df['Sub Category'] == 'Street Light Not Working'\n",
        "df_sub = df[mask].copy()"
      ]
    },
    {
      "cell_type": "code",
      "execution_count": 539,
      "metadata": {
        "id": "P8LMzJUTTnVI"
      },
      "outputs": [],
      "source": [
        "daily = df_sub.groupby(df_sub[\"Grievance Date\"].dt.date).size().reset_index(name='count')\n",
        "daily['date'] = pd.to_datetime(daily['Grievance Date'])\n",
        "daily = daily[['date', 'count']]"
      ]
    },
    {
      "cell_type": "code",
      "execution_count": 540,
      "metadata": {
        "id": "C8qauPNXTpTW"
      },
      "outputs": [],
      "source": [
        "full_range = pd.date_range(daily['date'].min(), daily['date'].max(), freq='D')\n",
        "daily = daily.set_index('date').reindex(full_range, fill_value=0).rename_axis('date').reset_index()"
      ]
    },
    {
      "cell_type": "code",
      "execution_count": 541,
      "metadata": {
        "id": "RcLWApSSqMVi"
      },
      "outputs": [],
      "source": [
        "daily['month'] = daily['date'].dt.month\n",
        "daily['month_sin'] = np.sin(2 * np.pi * daily['month'] / 12)\n",
        "daily['month_cos'] = np.cos(2 * np.pi * daily['month'] / 12)\n",
        "daily['dayofweek'] = daily['date'].dt.dayofweek\n",
        "daily['dow_sin'] = np.sin(2 * np.pi * daily['dayofweek'] / 7)\n",
        "daily['dow_cos'] = np.cos(2 * np.pi * daily['dayofweek'] / 7)\n",
        "festival_dates = ['2025-03-29', '2025-04-12', '2025-05-16']\n",
        "daily['is_festival'] = daily['date'].astype(str).isin(festival_dates).astype(int)\n",
        "daily['count_lag1'] = daily['count'].shift(1).fillna(0)\n",
        "daily['count_lag2'] = daily['count'].shift(2).fillna(0)\n",
        "daily['log_count'] = np.log1p(daily['count'])\n",
        "daily['count_lag7'] = daily['count'].shift(7).fillna(0)      # last week\n",
        "daily['count_rolling_max7'] = daily['count'].rolling(7, min_periods=1).max().shift(1).fillna(0)\n",
        "daily['count_rolling_sum7'] = daily['count'].rolling(7, min_periods=1).sum().shift(1).fillna(0)\n"
      ]
    },
    {
      "cell_type": "code",
      "execution_count": 542,
      "metadata": {
        "id": "0jiycAPhi7bs"
      },
      "outputs": [],
      "source": [
        "holiday_dates = [\n",
        "    '2025-01-01','2025-01-14','2025-01-26','2025-03-29','2025-04-12',\n",
        "    '2025-05-01','2025-08-15','2025-10-02','2025-11-01','2025-12-25'\n",
        "]"
      ]
    },
    {
      "cell_type": "code",
      "execution_count": 543,
      "metadata": {
        "id": "wluXljeroyO4"
      },
      "outputs": [],
      "source": [
        "daily['is_holiday'] = daily['date'].astype(str).isin(holiday_dates).astype(int)\n",
        "\n",
        "np.random.seed(0)\n",
        "daily['rain_mm'] = np.random.gamma(3, 4, size=len(daily))"
      ]
    },
    {
      "cell_type": "code",
      "execution_count": 544,
      "metadata": {
        "id": "l49vTN-XTxsD"
      },
      "outputs": [],
      "source": [
        "features = [\n",
        "    'count', 'count_lag1', 'count_lag2', 'count_lag7',\n",
        "    'count_rolling_max7', 'count_rolling_sum7',\n",
        "    'month_sin', 'month_cos', 'dow_sin', 'dow_cos',\n",
        "    'is_festival', 'is_holiday', 'rain_mm'\n",
        "]"
      ]
    },
    {
      "cell_type": "code",
      "execution_count": null,
      "metadata": {
        "id": "oJL_wMfWeNry"
      },
      "outputs": [],
      "source": [
        "X_all = daily[features].values.astype(float)\n",
        "y_all = daily['log_count'].values.astype(float) "
      ]
    },
    {
      "cell_type": "code",
      "execution_count": 546,
      "metadata": {
        "id": "ddu2RQpueTNr"
      },
      "outputs": [],
      "source": [
        "def create_sequences(X, y, seq_len):\n",
        "    X_seq, y_seq = [], []\n",
        "    for i in range(len(X) - seq_len):\n",
        "        X_seq.append(X[i:i+seq_len])\n",
        "        y_seq.append(y[i+seq_len])\n",
        "    return np.array(X_seq), np.array(y_seq)"
      ]
    },
    {
      "cell_type": "code",
      "execution_count": null,
      "metadata": {
        "id": "IbRMK0jbUaRH"
      },
      "outputs": [],
      "source": [
        "sequence_length = 30 "
      ]
    },
    {
      "cell_type": "code",
      "execution_count": 548,
      "metadata": {
        "id": "xwRWpT1MT8Ae"
      },
      "outputs": [],
      "source": [
        "X_seq, y_seq = create_sequences(X_all, y_all, sequence_length)"
      ]
    },
    {
      "cell_type": "code",
      "execution_count": 549,
      "metadata": {
        "id": "bVC2ttggUeHH"
      },
      "outputs": [],
      "source": [
        "split = int(0.8*len(X_seq))\n",
        "X_train, X_test = X_seq[:split], X_seq[split:]\n",
        "y_train, y_test = y_seq[:split], y_seq[split:]"
      ]
    },
    {
      "cell_type": "code",
      "execution_count": 550,
      "metadata": {
        "id": "rJeONLqAUoQe"
      },
      "outputs": [],
      "source": [
        "# --- Scale only on training data ---\n",
        "feature_scaler = MinMaxScaler()\n",
        "X_train_reshape = X_train.reshape(-1, X_train.shape[2])\n",
        "X_test_reshape = X_test.reshape(-1, X_test.shape[2])\n",
        "X_train_scaled = feature_scaler.fit_transform(X_train_reshape).reshape(X_train.shape)\n",
        "X_test_scaled = feature_scaler.transform(X_test_reshape).reshape(X_test.shape)\n"
      ]
    },
    {
      "cell_type": "code",
      "execution_count": 551,
      "metadata": {
        "id": "wg2jZK-9UqJ8"
      },
      "outputs": [],
      "source": [
        "target_scaler = MinMaxScaler()\n",
        "y_train_scaled = target_scaler.fit_transform(y_train.reshape(-1,1)).flatten()\n",
        "y_test_scaled = target_scaler.transform(y_test.reshape(-1,1)).flatten()"
      ]
    },
    {
      "cell_type": "code",
      "execution_count": 552,
      "metadata": {
        "id": "033baMSmUxNR"
      },
      "outputs": [],
      "source": [
        "import tensorflow as tf\n",
        "from tensorflow.keras.models import Sequential\n",
        "from tensorflow.keras.layers import LSTM, Dense, Dropout\n",
        "from tensorflow.keras.callbacks import EarlyStopping"
      ]
    },
    {
      "cell_type": "code",
      "execution_count": 553,
      "metadata": {
        "colab": {
          "base_uri": "https://localhost:8080/"
        },
        "id": "hdGHGNIJU1Dm",
        "outputId": "7b0b215a-9de3-4a27-f1ae-e316c893c4b5"
      },
      "outputs": [
        {
          "name": "stderr",
          "output_type": "stream",
          "text": [
            "/usr/local/lib/python3.12/dist-packages/keras/src/layers/rnn/rnn.py:199: UserWarning: Do not pass an `input_shape`/`input_dim` argument to a layer. When using Sequential models, prefer using an `Input(shape)` object as the first layer in the model instead.\n",
            "  super().__init__(**kwargs)\n"
          ]
        }
      ],
      "source": [
        "tf.random.set_seed(42)\n",
        "model = Sequential([\n",
        "    LSTM(128, return_sequences=True, input_shape=(X_train_scaled.shape[1], X_train_scaled.shape[2])),\n",
        "    Dropout(0.15),\n",
        "    LSTM(64, return_sequences=True),\n",
        "    Dropout(0.10),\n",
        "    LSTM(32),\n",
        "    Dense(32, activation=\"relu\"),\n",
        "    Dense(1)\n",
        "])"
      ]
    },
    {
      "cell_type": "code",
      "execution_count": 554,
      "metadata": {
        "id": "Xv6rcGxSU8WD"
      },
      "outputs": [],
      "source": [
        "model.compile(optimizer='adam', loss='mae')\n",
        "es = EarlyStopping(patience=15, restore_best_weights=True)"
      ]
    },
    {
      "cell_type": "code",
      "execution_count": null,
      "metadata": {
        "colab": {
          "base_uri": "https://localhost:8080/"
        },
        "id": "y5i6Vg8LVB15",
        "outputId": "355e8e96-096c-494b-a334-bb11b7320205"
      },
      "outputs": [
        {
          "name": "stdout",
          "output_type": "stream",
          "text": [
            "Epoch 1/300\n",
            "\u001b[1m5/5\u001b[0m \u001b[32m━━━━━━━━━━━━━━━━━━━━\u001b[0m\u001b[37m\u001b[0m \u001b[1m4s\u001b[0m 140ms/step - loss: 0.5486 - val_loss: 0.2402\n",
            "Epoch 2/300\n",
            "\u001b[1m5/5\u001b[0m \u001b[32m━━━━━━━━━━━━━━━━━━━━\u001b[0m\u001b[37m\u001b[0m \u001b[1m0s\u001b[0m 48ms/step - loss: 0.2689 - val_loss: 0.2043\n",
            "Epoch 3/300\n",
            "\u001b[1m5/5\u001b[0m \u001b[32m━━━━━━━━━━━━━━━━━━━━\u001b[0m\u001b[37m\u001b[0m \u001b[1m0s\u001b[0m 48ms/step - loss: 0.2123 - val_loss: 0.2660\n",
            "Epoch 4/300\n",
            "\u001b[1m5/5\u001b[0m \u001b[32m━━━━━━━━━━━━━━━━━━━━\u001b[0m\u001b[37m\u001b[0m \u001b[1m0s\u001b[0m 38ms/step - loss: 0.2254 - val_loss: 0.2069\n",
            "Epoch 5/300\n",
            "\u001b[1m5/5\u001b[0m \u001b[32m━━━━━━━━━━━━━━━━━━━━\u001b[0m\u001b[37m\u001b[0m \u001b[1m0s\u001b[0m 38ms/step - loss: 0.2119 - val_loss: 0.2024\n",
            "Epoch 6/300\n",
            "\u001b[1m5/5\u001b[0m \u001b[32m━━━━━━━━━━━━━━━━━━━━\u001b[0m\u001b[37m\u001b[0m \u001b[1m0s\u001b[0m 43ms/step - loss: 0.2190 - val_loss: 0.2128\n",
            "Epoch 7/300\n",
            "\u001b[1m5/5\u001b[0m \u001b[32m━━━━━━━━━━━━━━━━━━━━\u001b[0m\u001b[37m\u001b[0m \u001b[1m0s\u001b[0m 39ms/step - loss: 0.2027 - val_loss: 0.2377\n",
            "Epoch 8/300\n",
            "\u001b[1m5/5\u001b[0m \u001b[32m━━━━━━━━━━━━━━━━━━━━\u001b[0m\u001b[37m\u001b[0m \u001b[1m0s\u001b[0m 35ms/step - loss: 0.2062 - val_loss: 0.2066\n",
            "Epoch 9/300\n",
            "\u001b[1m5/5\u001b[0m \u001b[32m━━━━━━━━━━━━━━━━━━━━\u001b[0m\u001b[37m\u001b[0m \u001b[1m0s\u001b[0m 36ms/step - loss: 0.1996 - val_loss: 0.2014\n",
            "Epoch 10/300\n",
            "\u001b[1m5/5\u001b[0m \u001b[32m━━━━━━━━━━━━━━━━━━━━\u001b[0m\u001b[37m\u001b[0m \u001b[1m0s\u001b[0m 36ms/step - loss: 0.1998 - val_loss: 0.2071\n",
            "Epoch 11/300\n",
            "\u001b[1m5/5\u001b[0m \u001b[32m━━━━━━━━━━━━━━━━━━━━\u001b[0m\u001b[37m\u001b[0m \u001b[1m0s\u001b[0m 34ms/step - loss: 0.2028 - val_loss: 0.2044\n",
            "Epoch 12/300\n",
            "\u001b[1m5/5\u001b[0m \u001b[32m━━━━━━━━━━━━━━━━━━━━\u001b[0m\u001b[37m\u001b[0m \u001b[1m0s\u001b[0m 35ms/step - loss: 0.1980 - val_loss: 0.2265\n",
            "Epoch 13/300\n",
            "\u001b[1m5/5\u001b[0m \u001b[32m━━━━━━━━━━━━━━━━━━━━\u001b[0m\u001b[37m\u001b[0m \u001b[1m0s\u001b[0m 44ms/step - loss: 0.1975 - val_loss: 0.2150\n",
            "Epoch 14/300\n",
            "\u001b[1m5/5\u001b[0m \u001b[32m━━━━━━━━━━━━━━━━━━━━\u001b[0m\u001b[37m\u001b[0m \u001b[1m0s\u001b[0m 48ms/step - loss: 0.2068 - val_loss: 0.2071\n",
            "Epoch 15/300\n",
            "\u001b[1m5/5\u001b[0m \u001b[32m━━━━━━━━━━━━━━━━━━━━\u001b[0m\u001b[37m\u001b[0m \u001b[1m0s\u001b[0m 53ms/step - loss: 0.1930 - val_loss: 0.2373\n",
            "Epoch 16/300\n",
            "\u001b[1m5/5\u001b[0m \u001b[32m━━━━━━━━━━━━━━━━━━━━\u001b[0m\u001b[37m\u001b[0m \u001b[1m0s\u001b[0m 54ms/step - loss: 0.1953 - val_loss: 0.2236\n",
            "Epoch 17/300\n",
            "\u001b[1m5/5\u001b[0m \u001b[32m━━━━━━━━━━━━━━━━━━━━\u001b[0m\u001b[37m\u001b[0m \u001b[1m0s\u001b[0m 59ms/step - loss: 0.2020 - val_loss: 0.1980\n",
            "Epoch 18/300\n",
            "\u001b[1m5/5\u001b[0m \u001b[32m━━━━━━━━━━━━━━━━━━━━\u001b[0m\u001b[37m\u001b[0m \u001b[1m0s\u001b[0m 60ms/step - loss: 0.1982 - val_loss: 0.2402\n",
            "Epoch 19/300\n",
            "\u001b[1m5/5\u001b[0m \u001b[32m━━━━━━━━━━━━━━━━━━━━\u001b[0m\u001b[37m\u001b[0m \u001b[1m0s\u001b[0m 37ms/step - loss: 0.1918 - val_loss: 0.2339\n",
            "Epoch 20/300\n",
            "\u001b[1m5/5\u001b[0m \u001b[32m━━━━━━━━━━━━━━━━━━━━\u001b[0m\u001b[37m\u001b[0m \u001b[1m0s\u001b[0m 35ms/step - loss: 0.1950 - val_loss: 0.2052\n",
            "Epoch 21/300\n",
            "\u001b[1m5/5\u001b[0m \u001b[32m━━━━━━━━━━━━━━━━━━━━\u001b[0m\u001b[37m\u001b[0m \u001b[1m0s\u001b[0m 47ms/step - loss: 0.1901 - val_loss: 0.2463\n",
            "Epoch 22/300\n",
            "\u001b[1m5/5\u001b[0m \u001b[32m━━━━━━━━━━━━━━━━━━━━\u001b[0m\u001b[37m\u001b[0m \u001b[1m0s\u001b[0m 48ms/step - loss: 0.1954 - val_loss: 0.2540\n",
            "Epoch 23/300\n",
            "\u001b[1m5/5\u001b[0m \u001b[32m━━━━━━━━━━━━━━━━━━━━\u001b[0m\u001b[37m\u001b[0m \u001b[1m0s\u001b[0m 34ms/step - loss: 0.1917 - val_loss: 0.2696\n",
            "Epoch 24/300\n",
            "\u001b[1m5/5\u001b[0m \u001b[32m━━━━━━━━━━━━━━━━━━━━\u001b[0m\u001b[37m\u001b[0m \u001b[1m0s\u001b[0m 43ms/step - loss: 0.1847 - val_loss: 0.2237\n",
            "Epoch 25/300\n",
            "\u001b[1m5/5\u001b[0m \u001b[32m━━━━━━━━━━━━━━━━━━━━\u001b[0m\u001b[37m\u001b[0m \u001b[1m0s\u001b[0m 35ms/step - loss: 0.1919 - val_loss: 0.2990\n",
            "Epoch 26/300\n",
            "\u001b[1m5/5\u001b[0m \u001b[32m━━━━━━━━━━━━━━━━━━━━\u001b[0m\u001b[37m\u001b[0m \u001b[1m0s\u001b[0m 34ms/step - loss: 0.1964 - val_loss: 0.2178\n",
            "Epoch 27/300\n",
            "\u001b[1m5/5\u001b[0m \u001b[32m━━━━━━━━━━━━━━━━━━━━\u001b[0m\u001b[37m\u001b[0m \u001b[1m0s\u001b[0m 38ms/step - loss: 0.1948 - val_loss: 0.2308\n",
            "Epoch 28/300\n",
            "\u001b[1m5/5\u001b[0m \u001b[32m━━━━━━━━━━━━━━━━━━━━\u001b[0m\u001b[37m\u001b[0m \u001b[1m0s\u001b[0m 37ms/step - loss: 0.1820 - val_loss: 0.2582\n",
            "Epoch 29/300\n",
            "\u001b[1m5/5\u001b[0m \u001b[32m━━━━━━━━━━━━━━━━━━━━\u001b[0m\u001b[37m\u001b[0m \u001b[1m0s\u001b[0m 40ms/step - loss: 0.1813 - val_loss: 0.2203\n",
            "Epoch 30/300\n",
            "\u001b[1m5/5\u001b[0m \u001b[32m━━━━━━━━━━━━━━━━━━━━\u001b[0m\u001b[37m\u001b[0m \u001b[1m0s\u001b[0m 41ms/step - loss: 0.1883 - val_loss: 0.2504\n",
            "Epoch 31/300\n",
            "\u001b[1m5/5\u001b[0m \u001b[32m━━━━━━━━━━━━━━━━━━━━\u001b[0m\u001b[37m\u001b[0m \u001b[1m0s\u001b[0m 40ms/step - loss: 0.1757 - val_loss: 0.2540\n",
            "Epoch 32/300\n",
            "\u001b[1m5/5\u001b[0m \u001b[32m━━━━━━━━━━━━━━━━━━━━\u001b[0m\u001b[37m\u001b[0m \u001b[1m0s\u001b[0m 38ms/step - loss: 0.1642 - val_loss: 0.2467\n"
          ]
        }
      ],
      "source": [
        "history = model.fit(\n",
        "    X_train_scaled, y_train_scaled,\n",
        "    epochs=300,            \n",
        "    batch_size=4,         \n",
        "    validation_data=(X_test_scaled, y_test_scaled),\n",
        "    callbacks=[es],\n",
        "    verbose=1\n",
        ")"
      ]
    },
    {
      "cell_type": "code",
      "execution_count": 556,
      "metadata": {
        "colab": {
          "base_uri": "https://localhost:8080/"
        },
        "id": "fo8bkOaMZcaf",
        "outputId": "f9c92e64-135f-4ee4-e83e-1db1da102c7a"
      },
      "outputs": [
        {
          "name": "stdout",
          "output_type": "stream",
          "text": [
            "\u001b[1m1/1\u001b[0m \u001b[32m━━━━━━━━━━━━━━━━━━━━\u001b[0m\u001b[37m\u001b[0m \u001b[1m0s\u001b[0m 292ms/step\n",
            "First 10 predicted count: [314.6459  314.51483 314.35556 314.2168  314.04938]\n",
            "First 10 actual count: [194. 319. 348. 334. 315.]\n"
          ]
        }
      ],
      "source": [
        "# --- PREDICT AND INVERSE TRANSFORM ---\n",
        "y_pred_scaled = model.predict(X_test_scaled)\n",
        "y_pred_log = target_scaler.inverse_transform(y_pred_scaled).flatten()\n",
        "y_test_log = target_scaler.inverse_transform(y_test_scaled.reshape(-1,1)).flatten()\n",
        "y_pred_counts = np.expm1(y_pred_log)\n",
        "y_test_counts = np.expm1(y_test_log)\n",
        "dates_for_test = daily['date'][split+sequence_length:]\n",
        "\n",
        "print(\"First 10 predicted count:\", y_pred_counts[:10])\n",
        "print(\"First 10 actual count:\", y_test_counts[:10])"
      ]
    },
    {
      "cell_type": "code",
      "execution_count": 557,
      "metadata": {
        "colab": {
          "base_uri": "https://localhost:8080/"
        },
        "id": "mCke6XMaclpl",
        "outputId": "a596e2f9-e5bb-436d-934b-541a18ee7e67"
      },
      "outputs": [
        {
          "name": "stdout",
          "output_type": "stream",
          "text": [
            "MAE: 35.90, RMSE: 56.74, MAPE: 15.90%\n"
          ]
        }
      ],
      "source": [
        "mae = mean_absolute_error(y_test_counts, y_pred_counts)\n",
        "rmse = np.sqrt(mean_squared_error(y_test_counts, y_pred_counts))\n",
        "mape = np.mean(np.abs((y_test_counts - y_pred_counts) / (y_test_counts + 1e-6))) * 100\n",
        "print(f\"MAE: {mae:.2f}, RMSE: {rmse:.2f}, MAPE: {mape:.2f}%\")"
      ]
    },
    {
      "cell_type": "code",
      "execution_count": 558,
      "metadata": {
        "id": "j2HjR_gSjeyf"
      },
      "outputs": [],
      "source": [
        "window_size = 30\n",
        "rolling_mean = pd.Series(y_test_counts).rolling(window_size, min_periods=1).mean()\n",
        "rolling_std = pd.Series(y_test_counts).rolling(window_size, min_periods=1).std()\n",
        "spike_thresh = rolling_mean + 1.0 * rolling_std"
      ]
    },
    {
      "cell_type": "code",
      "execution_count": 559,
      "metadata": {
        "id": "o8WtlQuWjhBa"
      },
      "outputs": [],
      "source": [
        "model_spike = y_pred_counts > spike_thresh.values\n",
        "actual_spike = y_test_counts > spike_thresh.values"
      ]
    },
    {
      "cell_type": "code",
      "execution_count": 560,
      "metadata": {
        "id": "6BS3-VRNjjNl"
      },
      "outputs": [],
      "source": [
        "TP = np.sum(model_spike & actual_spike)\n",
        "FP = np.sum(model_spike & (~actual_spike))\n",
        "FN = np.sum((~model_spike) & actual_spike)"
      ]
    },
    {
      "cell_type": "code",
      "execution_count": 561,
      "metadata": {
        "colab": {
          "base_uri": "https://localhost:8080/"
        },
        "id": "ynsypMz1jljU",
        "outputId": "61a99b7e-bc1b-4861-814a-f41d8b4084e2"
      },
      "outputs": [
        {
          "name": "stdout",
          "output_type": "stream",
          "text": [
            "Spike Alert Precision: 0.00\n",
            "Spike Detection Recall: 0.00\n"
          ]
        }
      ],
      "source": [
        "precision = TP / (TP + FP + 1e-8)\n",
        "recall = TP / (TP + FN + 1e-8)\n",
        "print(f\"Spike Alert Precision: {precision:.2f}\")\n",
        "print(f\"Spike Detection Recall: {recall:.2f}\")"
      ]
    },
    {
      "cell_type": "code",
      "execution_count": 562,
      "metadata": {
        "id": "8nlH4FNNq_vW"
      },
      "outputs": [],
      "source": [
        "#simulating a surge\n",
        "daily.loc[daily['date'] == pd.to_datetime('2025-06-15'), 'count'] = 2000"
      ]
    },
    {
      "cell_type": "code",
      "execution_count": 563,
      "metadata": {
        "colab": {
          "base_uri": "https://localhost:8080/",
          "height": 1000,
          "referenced_widgets": [
            "fc7c9b157a784280b17fe4ba24b4978a",
            "09ecdf0bdd5d421a85a9d1d781990bb5",
            "61d14f2d20154eada4ffc8d9f785aca9",
            "067f5d5d1adc45d8b89f5ad7c4fb7fe5",
            "a7528c5219ca42edb3fa4e3e3ca8b18e",
            "756e53258f3c4e00a0752848c299ec9e",
            "bef65f865fb94397bd83a0efab2c0c13",
            "d1f2314845814050b0d6b53b648898e3"
          ]
        },
        "id": "UWLbI_YUkdg0",
        "outputId": "9bc64a74-1a20-462c-cc23-cf8f1dc364eb"
      },
      "outputs": [
        {
          "data": {
            "application/vnd.jupyter.widget-view+json": {
              "model_id": "fc7c9b157a784280b17fe4ba24b4978a",
              "version_major": 2,
              "version_minor": 0
            },
            "text/plain": [
              "HBox(children=(DatePicker(value=datetime.date(2025, 6, 11), description='Start Date'), IntSlider(value=30, des…"
            ]
          },
          "metadata": {},
          "output_type": "display_data"
        },
        {
          "name": "stdout",
          "output_type": "stream",
          "text": [
            "\u001b[1m1/1\u001b[0m \u001b[32m━━━━━━━━━━━━━━━━━━━━\u001b[0m\u001b[37m\u001b[0m \u001b[1m0s\u001b[0m 30ms/step\n",
            "\u001b[1m1/1\u001b[0m \u001b[32m━━━━━━━━━━━━━━━━━━━━\u001b[0m\u001b[37m\u001b[0m \u001b[1m0s\u001b[0m 30ms/step\n",
            "\u001b[1m1/1\u001b[0m \u001b[32m━━━━━━━━━━━━━━━━━━━━\u001b[0m\u001b[37m\u001b[0m \u001b[1m0s\u001b[0m 28ms/step\n",
            "\u001b[1m1/1\u001b[0m \u001b[32m━━━━━━━━━━━━━━━━━━━━\u001b[0m\u001b[37m\u001b[0m \u001b[1m0s\u001b[0m 28ms/step\n",
            "\u001b[1m1/1\u001b[0m \u001b[32m━━━━━━━━━━━━━━━━━━━━\u001b[0m\u001b[37m\u001b[0m \u001b[1m0s\u001b[0m 49ms/step\n",
            "\u001b[1m1/1\u001b[0m \u001b[32m━━━━━━━━━━━━━━━━━━━━\u001b[0m\u001b[37m\u001b[0m \u001b[1m0s\u001b[0m 48ms/step\n",
            "\u001b[1m1/1\u001b[0m \u001b[32m━━━━━━━━━━━━━━━━━━━━\u001b[0m\u001b[37m\u001b[0m \u001b[1m0s\u001b[0m 40ms/step\n",
            "\u001b[1m1/1\u001b[0m \u001b[32m━━━━━━━━━━━━━━━━━━━━\u001b[0m\u001b[37m\u001b[0m \u001b[1m0s\u001b[0m 42ms/step\n",
            "\u001b[1m1/1\u001b[0m \u001b[32m━━━━━━━━━━━━━━━━━━━━\u001b[0m\u001b[37m\u001b[0m \u001b[1m0s\u001b[0m 49ms/step\n",
            "\u001b[1m1/1\u001b[0m \u001b[32m━━━━━━━━━━━━━━━━━━━━\u001b[0m\u001b[37m\u001b[0m \u001b[1m0s\u001b[0m 45ms/step\n",
            "\u001b[1m1/1\u001b[0m \u001b[32m━━━━━━━━━━━━━━━━━━━━\u001b[0m\u001b[37m\u001b[0m \u001b[1m0s\u001b[0m 59ms/step\n",
            "\u001b[1m1/1\u001b[0m \u001b[32m━━━━━━━━━━━━━━━━━━━━\u001b[0m\u001b[37m\u001b[0m \u001b[1m0s\u001b[0m 46ms/step\n",
            "\u001b[1m1/1\u001b[0m \u001b[32m━━━━━━━━━━━━━━━━━━━━\u001b[0m\u001b[37m\u001b[0m \u001b[1m0s\u001b[0m 53ms/step\n",
            "\u001b[1m1/1\u001b[0m \u001b[32m━━━━━━━━━━━━━━━━━━━━\u001b[0m\u001b[37m\u001b[0m \u001b[1m0s\u001b[0m 53ms/step\n",
            "\u001b[1m1/1\u001b[0m \u001b[32m━━━━━━━━━━━━━━━━━━━━\u001b[0m\u001b[37m\u001b[0m \u001b[1m0s\u001b[0m 46ms/step\n",
            "\u001b[1m1/1\u001b[0m \u001b[32m━━━━━━━━━━━━━━━━━━━━\u001b[0m\u001b[37m\u001b[0m \u001b[1m0s\u001b[0m 56ms/step\n",
            "\u001b[1m1/1\u001b[0m \u001b[32m━━━━━━━━━━━━━━━━━━━━\u001b[0m\u001b[37m\u001b[0m \u001b[1m0s\u001b[0m 41ms/step\n",
            "\u001b[1m1/1\u001b[0m \u001b[32m━━━━━━━━━━━━━━━━━━━━\u001b[0m\u001b[37m\u001b[0m \u001b[1m0s\u001b[0m 33ms/step\n",
            "\u001b[1m1/1\u001b[0m \u001b[32m━━━━━━━━━━━━━━━━━━━━\u001b[0m\u001b[37m\u001b[0m \u001b[1m0s\u001b[0m 31ms/step\n",
            "\u001b[1m1/1\u001b[0m \u001b[32m━━━━━━━━━━━━━━━━━━━━\u001b[0m\u001b[37m\u001b[0m \u001b[1m0s\u001b[0m 32ms/step\n",
            "\u001b[1m1/1\u001b[0m \u001b[32m━━━━━━━━━━━━━━━━━━━━\u001b[0m\u001b[37m\u001b[0m \u001b[1m0s\u001b[0m 35ms/step\n",
            "\u001b[1m1/1\u001b[0m \u001b[32m━━━━━━━━━━━━━━━━━━━━\u001b[0m\u001b[37m\u001b[0m \u001b[1m0s\u001b[0m 35ms/step\n",
            "\u001b[1m1/1\u001b[0m \u001b[32m━━━━━━━━━━━━━━━━━━━━\u001b[0m\u001b[37m\u001b[0m \u001b[1m0s\u001b[0m 33ms/step\n",
            "\u001b[1m1/1\u001b[0m \u001b[32m━━━━━━━━━━━━━━━━━━━━\u001b[0m\u001b[37m\u001b[0m \u001b[1m0s\u001b[0m 33ms/step\n",
            "\u001b[1m1/1\u001b[0m \u001b[32m━━━━━━━━━━━━━━━━━━━━\u001b[0m\u001b[37m\u001b[0m \u001b[1m0s\u001b[0m 32ms/step\n",
            "\u001b[1m1/1\u001b[0m \u001b[32m━━━━━━━━━━━━━━━━━━━━\u001b[0m\u001b[37m\u001b[0m \u001b[1m0s\u001b[0m 36ms/step\n",
            "\u001b[1m1/1\u001b[0m \u001b[32m━━━━━━━━━━━━━━━━━━━━\u001b[0m\u001b[37m\u001b[0m \u001b[1m0s\u001b[0m 33ms/step\n",
            "\u001b[1m1/1\u001b[0m \u001b[32m━━━━━━━━━━━━━━━━━━━━\u001b[0m\u001b[37m\u001b[0m \u001b[1m0s\u001b[0m 46ms/step\n",
            "\u001b[1m1/1\u001b[0m \u001b[32m━━━━━━━━━━━━━━━━━━━━\u001b[0m\u001b[37m\u001b[0m \u001b[1m0s\u001b[0m 33ms/step\n",
            "\u001b[1m1/1\u001b[0m \u001b[32m━━━━━━━━━━━━━━━━━━━━\u001b[0m\u001b[37m\u001b[0m \u001b[1m0s\u001b[0m 35ms/step\n"
          ]
        },
        {
          "data": {
            "image/png": "[encoded data removed]",
            "text/plain": [
              "<Figure size 1200x500 with 1 Axes>"
            ]
          },
          "metadata": {},
          "output_type": "display_data"
        },
        {
          "name": "stdout",
          "output_type": "stream",
          "text": [
            "[Info] Spike threshold for this window: 418.2\n",
            "No spikes predicted.\n"
          ]
        }
      ],
      "source": [
        "def interactive_forecast(start_date, days_ahead):\n",
        "    # Ensure types\n",
        "    start_date = pd.to_datetime(start_date)\n",
        "    # Find the last available index <= start_date\n",
        "    idx = daily[daily['date'] == start_date].index\n",
        "    if len(idx) == 0 or idx[0] < sequence_length:\n",
        "        print(\"Insufficient history before selected start date.\")\n",
        "        return\n",
        "    idx = idx[0]\n",
        "    # Prepare last sequence up to the selected start date\n",
        "    last_seq = X_all[idx-sequence_length:idx]\n",
        "    last_seq_scaled = feature_scaler.transform(last_seq)\n",
        "    current_seq = last_seq_scaled.copy()\n",
        "    future_preds = []\n",
        "    for i in range(days_ahead):\n",
        "        pred_scaled = model.predict(current_seq[np.newaxis, :, :])[0, 0]\n",
        "        pred_log = target_scaler.inverse_transform([[pred_scaled]])[0, 0]\n",
        "        pred_count = np.expm1(pred_log)\n",
        "        future_preds.append(pred_count)\n",
        "        # next input row: only count and lags move\n",
        "        new_row = current_seq[-1].copy()\n",
        "        new_row[0] = pred_count  # 'count'\n",
        "        new_row[1] = current_seq[-1][0]  # count_lag1 = previous count\n",
        "        new_row[2] = current_seq[-1][1]  # count_lag2 = previous count_lag1\n",
        "        history_counts = list(daily['count'].iloc[idx-sequence_length:idx]) + future_preds\n",
        "        last7 = history_counts[-7:]\n",
        "\n",
        "        new_row[4] = max(last7)     # count_rolling_max7\n",
        "        new_row[5] = sum(last7)\n",
        "        # Optionally you could update features (weather, festival) using calendar, etc\n",
        "        current_seq = np.roll(current_seq, -1, axis=0)\n",
        "        current_seq[-1] = new_row\n",
        "\n",
        "    future_dates = pd.date_range(start=start_date + pd.Timedelta(days=1), periods=days_ahead)\n",
        "\n",
        "    # Compute spike threshold based on the history window prior to the forecast\n",
        "    hist_counts = daily['count'][:idx]\n",
        "    rolling_mean = hist_counts.rolling(sequence_length, min_periods=1).mean().iloc[-1]\n",
        "    rolling_std = hist_counts.rolling(sequence_length, min_periods=1).std().iloc[-1]\n",
        "    spike_thresh = rolling_mean + 2 * rolling_std\n",
        "\n",
        "    # Mark spikes\n",
        "    spikes = [d for d, v in zip(future_dates, future_preds) if v > spike_thresh]\n",
        "\n",
        "    # Plot actual up to start_date, then prediction\n",
        "    plt.figure(figsize=(12,5))\n",
        "    plt.plot(daily['date'], daily['count'], label='Actual (historical)')\n",
        "    plt.plot(future_dates, future_preds, label='Forecast', linestyle='--')\n",
        "    plt.axhline(spike_thresh, color='red', linestyle=':', label='Spike Threshold')\n",
        "    if spikes:\n",
        "        plt.scatter(spikes, [future_preds[list(future_dates).index(d)] for d in spikes],\n",
        "                    color='orange', marker='^', label='Predicted Spike')\n",
        "    plt.title(f\"Forecast from {start_date.date()} for {days_ahead} days\")\n",
        "    plt.xlabel('Date')\n",
        "    plt.ylabel('Complaints (Forecasted)')\n",
        "    plt.legend()\n",
        "    plt.grid()\n",
        "    plt.show()\n",
        "    print(f\"[Info] Spike threshold for this window: {spike_thresh:.1f}\")\n",
        "    if spikes:\n",
        "        print(\"Predicted spike dates:\", [d.date() for d in spikes])\n",
        "    else:\n",
        "        print(\"No spikes predicted.\")\n",
        "\n",
        "# User widget interface\n",
        "min_date = daily['date'].iloc[sequence_length]\n",
        "max_date = daily['date'].iloc[-1]\n",
        "date_picker = widgets.DatePicker(\n",
        "    description='Start Date',\n",
        "    value=max_date,\n",
        "    disabled=False\n",
        ")\n",
        "days_slider = widgets.IntSlider(\n",
        "    value=30,\n",
        "    min=1,\n",
        "    max=60,\n",
        "    step=1,\n",
        "    description='Days Ahead'\n",
        ")\n",
        "\n",
        "ui = widgets.HBox([date_picker, days_slider])\n",
        "\n",
        "def on_value_change(change):\n",
        "    clear_output(wait=True)\n",
        "    display(ui)\n",
        "    interactive_forecast(date_picker.value, days_slider.value)\n",
        "\n",
        "date_picker.observe(on_value_change, names='value')\n",
        "days_slider.observe(on_value_change, names='value')\n",
        "\n",
        "display(ui)\n",
        "interactive_forecast(date_picker.value, days_slider.value)"
      ]
    },
    {
      "cell_type": "code",
      "execution_count": 564,
      "metadata": {
        "colab": {
          "base_uri": "https://localhost:8080/",
          "height": 487
        },
        "id": "uLThOu5Qjou_",
        "outputId": "5e5e1a82-860b-413c-9ab9-b38659dfbd8d"
      },
      "outputs": [
        {
          "data": {
            "image/png": "[encoded data removed]",
            "text/plain": [
              "<Figure size 1200x500 with 1 Axes>"
            ]
          },
          "metadata": {},
          "output_type": "display_data"
        }
      ],
      "source": [
        "plt.figure(figsize=(12,5))\n",
        "plt.plot(dates_for_test, y_test_counts, label='Actual')\n",
        "plt.plot(dates_for_test, y_pred_counts, label='Predicted', linestyle='--')\n",
        "plt.plot(dates_for_test, spike_thresh, label='Spike Threshold', linestyle=':')\n",
        "plt.scatter(np.array(dates_for_test)[model_spike], y_pred_counts[model_spike], color='red', label='Predicted Spike', marker='^')\n",
        "plt.scatter(np.array(dates_for_test)[actual_spike], y_test_counts[actual_spike], color='orange', label='Actual Spike', marker='o')\n",
        "plt.legend()\n",
        "plt.title('LSTM Forecast with Holidays, Weather & Spike Alerts')\n",
        "plt.xlabel('Date')\n",
        "plt.ylabel('Daily Complaints')\n",
        "plt.grid()\n",
        "plt.show()"
      ]
    },
    {
      "cell_type": "code",
      "execution_count": 565,
      "metadata": {
        "colab": {
          "base_uri": "https://localhost:8080/"
        },
        "id": "Svy-820Jf5_r",
        "outputId": "3ded3a46-20e8-44e9-acf4-8cf995e4e58d"
      },
      "outputs": [
        {
          "name": "stdout",
          "output_type": "stream",
          "text": [
            "Final train loss: 0.16719333827495575\n",
            "Final val loss: 0.24672198295593262\n"
          ]
        }
      ],
      "source": [
        "print(\"Final train loss:\", history.history['loss'][-1])\n",
        "print(\"Final val loss:\", history.history['val_loss'][-1])\n"
      ]
    }
  ],
  "metadata": {
    "colab": {
      "provenance": []
    },
    "kernelspec": {
      "display_name": "Python 3",
      "name": "python3"
    },
    "language_info": {
      "name": "python"
    },
    "widgets": {
      "application/vnd.jupyter.widget-state+json": {
        "067f5d5d1adc45d8b89f5ad7c4fb7fe5": {
          "model_module": "@jupyter-widgets/base",
          "model_module_version": "1.2.0",
          "model_name": "LayoutModel",
          "state": {
            "_model_module": "@jupyter-widgets/base",
            "_model_module_version": "1.2.0",
            "_model_name": "LayoutModel",
            "_view_count": null,
            "_view_module": "@jupyter-widgets/base",
            "_view_module_version": "1.2.0",
            "_view_name": "LayoutView",
            "align_content": null,
            "align_items": null,
            "align_self": null,
            "border": null,
            "bottom": null,
            "display": null,
            "flex": null,
            "flex_flow": null,
            "grid_area": null,
            "grid_auto_columns": null,
            "grid_auto_flow": null,
            "grid_auto_rows": null,
            "grid_column": null,
            "grid_gap": null,
            "grid_row": null,
            "grid_template_areas": null,
            "grid_template_columns": null,
            "grid_template_rows": null,
            "height": null,
            "justify_content": null,
            "justify_items": null,
            "left": null,
            "margin": null,
            "max_height": null,
            "max_width": null,
            "min_height": null,
            "min_width": null,
            "object_fit": null,
            "object_position": null,
            "order": null,
            "overflow": null,
            "overflow_x": null,
            "overflow_y": null,
            "padding": null,
            "right": null,
            "top": null,
            "visibility": null,
            "width": null
          }
        },
        "09ecdf0bdd5d421a85a9d1d781990bb5": {
          "model_module": "@jupyter-widgets/controls",
          "model_module_version": "1.5.0",
          "model_name": "DatePickerModel",
          "state": {
            "_dom_classes": [],
            "_model_module": "@jupyter-widgets/controls",
            "_model_module_version": "1.5.0",
            "_model_name": "DatePickerModel",
            "_view_count": null,
            "_view_module": "@jupyter-widgets/controls",
            "_view_module_version": "1.5.0",
            "_view_name": "DatePickerView",
            "description": "Start Date",
            "description_tooltip": null,
            "disabled": false,
            "layout": "IPY_MODEL_a7528c5219ca42edb3fa4e3e3ca8b18e",
            "style": "IPY_MODEL_756e53258f3c4e00a0752848c299ec9e",
            "value": {
              "date": 11,
              "month": 5,
              "year": 2025
            }
          }
        },
        "61d14f2d20154eada4ffc8d9f785aca9": {
          "model_module": "@jupyter-widgets/controls",
          "model_module_version": "1.5.0",
          "model_name": "IntSliderModel",
          "state": {
            "_dom_classes": [],
            "_model_module": "@jupyter-widgets/controls",
            "_model_module_version": "1.5.0",
            "_model_name": "IntSliderModel",
            "_view_count": null,
            "_view_module": "@jupyter-widgets/controls",
            "_view_module_version": "1.5.0",
            "_view_name": "IntSliderView",
            "continuous_update": true,
            "description": "Days Ahead",
            "description_tooltip": null,
            "disabled": false,
            "layout": "IPY_MODEL_bef65f865fb94397bd83a0efab2c0c13",
            "max": 60,
            "min": 1,
            "orientation": "horizontal",
            "readout": true,
            "readout_format": "d",
            "step": 1,
            "style": "IPY_MODEL_d1f2314845814050b0d6b53b648898e3",
            "value": 30
          }
        },
        "756e53258f3c4e00a0752848c299ec9e": {
          "model_module": "@jupyter-widgets/controls",
          "model_module_version": "1.5.0",
          "model_name": "DescriptionStyleModel",
          "state": {
            "_model_module": "@jupyter-widgets/controls",
            "_model_module_version": "1.5.0",
            "_model_name": "DescriptionStyleModel",
            "_view_count": null,
            "_view_module": "@jupyter-widgets/base",
            "_view_module_version": "1.2.0",
            "_view_name": "StyleView",
            "description_width": ""
          }
        },
        "a7528c5219ca42edb3fa4e3e3ca8b18e": {
          "model_module": "@jupyter-widgets/base",
          "model_module_version": "1.2.0",
          "model_name": "LayoutModel",
          "state": {
            "_model_module": "@jupyter-widgets/base",
            "_model_module_version": "1.2.0",
            "_model_name": "LayoutModel",
            "_view_count": null,
            "_view_module": "@jupyter-widgets/base",
            "_view_module_version": "1.2.0",
            "_view_name": "LayoutView",
            "align_content": null,
            "align_items": null,
            "align_self": null,
            "border": null,
            "bottom": null,
            "display": null,
            "flex": null,
            "flex_flow": null,
            "grid_area": null,
            "grid_auto_columns": null,
            "grid_auto_flow": null,
            "grid_auto_rows": null,
            "grid_column": null,
            "grid_gap": null,
            "grid_row": null,
            "grid_template_areas": null,
            "grid_template_columns": null,
            "grid_template_rows": null,
            "height": null,
            "justify_content": null,
            "justify_items": null,
            "left": null,
            "margin": null,
            "max_height": null,
            "max_width": null,
            "min_height": null,
            "min_width": null,
            "object_fit": null,
            "object_position": null,
            "order": null,
            "overflow": null,
            "overflow_x": null,
            "overflow_y": null,
            "padding": null,
            "right": null,
            "top": null,
            "visibility": null,
            "width": null
          }
        },
        "bef65f865fb94397bd83a0efab2c0c13": {
          "model_module": "@jupyter-widgets/base",
          "model_module_version": "1.2.0",
          "model_name": "LayoutModel",
          "state": {
            "_model_module": "@jupyter-widgets/base",
            "_model_module_version": "1.2.0",
            "_model_name": "LayoutModel",
            "_view_count": null,
            "_view_module": "@jupyter-widgets/base",
            "_view_module_version": "1.2.0",
            "_view_name": "LayoutView",
            "align_content": null,
            "align_items": null,
            "align_self": null,
            "border": null,
            "bottom": null,
            "display": null,
            "flex": null,
            "flex_flow": null,
            "grid_area": null,
            "grid_auto_columns": null,
            "grid_auto_flow": null,
            "grid_auto_rows": null,
            "grid_column": null,
            "grid_gap": null,
            "grid_row": null,
            "grid_template_areas": null,
            "grid_template_columns": null,
            "grid_template_rows": null,
            "height": null,
            "justify_content": null,
            "justify_items": null,
            "left": null,
            "margin": null,
            "max_height": null,
            "max_width": null,
            "min_height": null,
            "min_width": null,
            "object_fit": null,
            "object_position": null,
            "order": null,
            "overflow": null,
            "overflow_x": null,
            "overflow_y": null,
            "padding": null,
            "right": null,
            "top": null,
            "visibility": null,
            "width": null
          }
        },
        "d1f2314845814050b0d6b53b648898e3": {
          "model_module": "@jupyter-widgets/controls",
          "model_module_version": "1.5.0",
          "model_name": "SliderStyleModel",
          "state": {
            "_model_module": "@jupyter-widgets/controls",
            "_model_module_version": "1.5.0",
            "_model_name": "SliderStyleModel",
            "_view_count": null,
            "_view_module": "@jupyter-widgets/base",
            "_view_module_version": "1.2.0",
            "_view_name": "StyleView",
            "description_width": "",
            "handle_color": null
          }
        },
        "fc7c9b157a784280b17fe4ba24b4978a": {
          "model_module": "@jupyter-widgets/controls",
          "model_module_version": "1.5.0",
          "model_name": "HBoxModel",
          "state": {
            "_dom_classes": [],
            "_model_module": "@jupyter-widgets/controls",
            "_model_module_version": "1.5.0",
            "_model_name": "HBoxModel",
            "_view_count": null,
            "_view_module": "@jupyter-widgets/controls",
            "_view_module_version": "1.5.0",
            "_view_name": "HBoxView",
            "box_style": "",
            "children": [
              "IPY_MODEL_09ecdf0bdd5d421a85a9d1d781990bb5",
              "IPY_MODEL_61d14f2d20154eada4ffc8d9f785aca9"
            ],
            "layout": "IPY_MODEL_067f5d5d1adc45d8b89f5ad7c4fb7fe5"
          }
        }
      }
    }
  },
  "nbformat": 4,
  "nbformat_minor": 0
}
