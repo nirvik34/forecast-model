{
  "nbformat": 4,
  "nbformat_minor": 0,
  "metadata": {
    "colab": {
      "provenance": []
    },
    "kernelspec": {
      "name": "python3",
      "display_name": "Python 3"
    },
    "language_info": {
      "name": "python"
    },
    "widgets": {
      "application/vnd.jupyter.widget-state+json": {
        "1fc897aba28b4d96932f3748de9305ff": {
          "model_module": "@jupyter-widgets/controls",
          "model_name": "HBoxModel",
          "model_module_version": "1.5.0",
          "state": {
            "_dom_classes": [],
            "_model_module": "@jupyter-widgets/controls",
            "_model_module_version": "1.5.0",
            "_model_name": "HBoxModel",
            "_view_count": null,
            "_view_module": "@jupyter-widgets/controls",
            "_view_module_version": "1.5.0",
            "_view_name": "HBoxView",
            "box_style": "",
            "children": [
              "IPY_MODEL_b3433ec714ab4c9da3302d5117edacf3",
              "IPY_MODEL_77a25af557a6419585faa3c5a67db51c"
            ],
            "layout": "IPY_MODEL_ece6c4fd3063428193b69914266b05f0"
          }
        },
        "b3433ec714ab4c9da3302d5117edacf3": {
          "model_module": "@jupyter-widgets/controls",
          "model_name": "DatePickerModel",
          "model_module_version": "1.5.0",
          "state": {
            "_dom_classes": [],
            "_model_module": "@jupyter-widgets/controls",
            "_model_module_version": "1.5.0",
            "_model_name": "DatePickerModel",
            "_view_count": null,
            "_view_module": "@jupyter-widgets/controls",
            "_view_module_version": "1.5.0",
            "_view_name": "DatePickerView",
            "description": "Start Date",
            "description_tooltip": null,
            "disabled": false,
            "layout": "IPY_MODEL_c8fbb1d735ce441fa082f2cb0e8969b0",
            "style": "IPY_MODEL_b93ac3cffa8845ecb5841dceffe5e206",
            "value": {
              "year": 2025,
              "month": 5,
              "date": 19
            }
          }
        },
        "77a25af557a6419585faa3c5a67db51c": {
          "model_module": "@jupyter-widgets/controls",
          "model_name": "IntSliderModel",
          "model_module_version": "1.5.0",
          "state": {
            "_dom_classes": [],
            "_model_module": "@jupyter-widgets/controls",
            "_model_module_version": "1.5.0",
            "_model_name": "IntSliderModel",
            "_view_count": null,
            "_view_module": "@jupyter-widgets/controls",
            "_view_module_version": "1.5.0",
            "_view_name": "IntSliderView",
            "continuous_update": true,
            "description": "Days Ahead",
            "description_tooltip": null,
            "disabled": false,
            "layout": "IPY_MODEL_2e974408363e45779944da7e3ba3d110",
            "max": 60,
            "min": 1,
            "orientation": "horizontal",
            "readout": true,
            "readout_format": "d",
            "step": 1,
            "style": "IPY_MODEL_09d9e804ff264416baece28328bbb535",
            "value": 30
          }
        },
        "ece6c4fd3063428193b69914266b05f0": {
          "model_module": "@jupyter-widgets/base",
          "model_name": "LayoutModel",
          "model_module_version": "1.2.0",
          "state": {
            "_model_module": "@jupyter-widgets/base",
            "_model_module_version": "1.2.0",
            "_model_name": "LayoutModel",
            "_view_count": null,
            "_view_module": "@jupyter-widgets/base",
            "_view_module_version": "1.2.0",
            "_view_name": "LayoutView",
            "align_content": null,
            "align_items": null,
            "align_self": null,
            "border": null,
            "bottom": null,
            "display": null,
            "flex": null,
            "flex_flow": null,
            "grid_area": null,
            "grid_auto_columns": null,
            "grid_auto_flow": null,
            "grid_auto_rows": null,
            "grid_column": null,
            "grid_gap": null,
            "grid_row": null,
            "grid_template_areas": null,
            "grid_template_columns": null,
            "grid_template_rows": null,
            "height": null,
            "justify_content": null,
            "justify_items": null,
            "left": null,
            "margin": null,
            "max_height": null,
            "max_width": null,
            "min_height": null,
            "min_width": null,
            "object_fit": null,
            "object_position": null,
            "order": null,
            "overflow": null,
            "overflow_x": null,
            "overflow_y": null,
            "padding": null,
            "right": null,
            "top": null,
            "visibility": null,
            "width": null
          }
        },
        "c8fbb1d735ce441fa082f2cb0e8969b0": {
          "model_module": "@jupyter-widgets/base",
          "model_name": "LayoutModel",
          "model_module_version": "1.2.0",
          "state": {
            "_model_module": "@jupyter-widgets/base",
            "_model_module_version": "1.2.0",
            "_model_name": "LayoutModel",
            "_view_count": null,
            "_view_module": "@jupyter-widgets/base",
            "_view_module_version": "1.2.0",
            "_view_name": "LayoutView",
            "align_content": null,
            "align_items": null,
            "align_self": null,
            "border": null,
            "bottom": null,
            "display": null,
            "flex": null,
            "flex_flow": null,
            "grid_area": null,
            "grid_auto_columns": null,
            "grid_auto_flow": null,
            "grid_auto_rows": null,
            "grid_column": null,
            "grid_gap": null,
            "grid_row": null,
            "grid_template_areas": null,
            "grid_template_columns": null,
            "grid_template_rows": null,
            "height": null,
            "justify_content": null,
            "justify_items": null,
            "left": null,
            "margin": null,
            "max_height": null,
            "max_width": null,
            "min_height": null,
            "min_width": null,
            "object_fit": null,
            "object_position": null,
            "order": null,
            "overflow": null,
            "overflow_x": null,
            "overflow_y": null,
            "padding": null,
            "right": null,
            "top": null,
            "visibility": null,
            "width": null
          }
        },
        "b93ac3cffa8845ecb5841dceffe5e206": {
          "model_module": "@jupyter-widgets/controls",
          "model_name": "DescriptionStyleModel",
          "model_module_version": "1.5.0",
          "state": {
            "_model_module": "@jupyter-widgets/controls",
            "_model_module_version": "1.5.0",
            "_model_name": "DescriptionStyleModel",
            "_view_count": null,
            "_view_module": "@jupyter-widgets/base",
            "_view_module_version": "1.2.0",
            "_view_name": "StyleView",
            "description_width": ""
          }
        },
        "2e974408363e45779944da7e3ba3d110": {
          "model_module": "@jupyter-widgets/base",
          "model_name": "LayoutModel",
          "model_module_version": "1.2.0",
          "state": {
            "_model_module": "@jupyter-widgets/base",
            "_model_module_version": "1.2.0",
            "_model_name": "LayoutModel",
            "_view_count": null,
            "_view_module": "@jupyter-widgets/base",
            "_view_module_version": "1.2.0",
            "_view_name": "LayoutView",
            "align_content": null,
            "align_items": null,
            "align_self": null,
            "border": null,
            "bottom": null,
            "display": null,
            "flex": null,
            "flex_flow": null,
            "grid_area": null,
            "grid_auto_columns": null,
            "grid_auto_flow": null,
            "grid_auto_rows": null,
            "grid_column": null,
            "grid_gap": null,
            "grid_row": null,
            "grid_template_areas": null,
            "grid_template_columns": null,
            "grid_template_rows": null,
            "height": null,
            "justify_content": null,
            "justify_items": null,
            "left": null,
            "margin": null,
            "max_height": null,
            "max_width": null,
            "min_height": null,
            "min_width": null,
            "object_fit": null,
            "object_position": null,
            "order": null,
            "overflow": null,
            "overflow_x": null,
            "overflow_y": null,
            "padding": null,
            "right": null,
            "top": null,
            "visibility": null,
            "width": null
          }
        },
        "09d9e804ff264416baece28328bbb535": {
          "model_module": "@jupyter-widgets/controls",
          "model_name": "SliderStyleModel",
          "model_module_version": "1.5.0",
          "state": {
            "_model_module": "@jupyter-widgets/controls",
            "_model_module_version": "1.5.0",
            "_model_name": "SliderStyleModel",
            "_view_count": null,
            "_view_module": "@jupyter-widgets/base",
            "_view_module_version": "1.2.0",
            "_view_name": "StyleView",
            "description_width": "",
            "handle_color": null
          }
        },
        "61a97875068d4ce089d262fdea339f2c": {
          "model_module": "@jupyter-widgets/controls",
          "model_name": "HBoxModel",
          "model_module_version": "1.5.0",
          "state": {
            "_dom_classes": [],
            "_model_module": "@jupyter-widgets/controls",
            "_model_module_version": "1.5.0",
            "_model_name": "HBoxModel",
            "_view_count": null,
            "_view_module": "@jupyter-widgets/controls",
            "_view_module_version": "1.5.0",
            "_view_name": "HBoxView",
            "box_style": "",
            "children": [
              "IPY_MODEL_b9d90e03762e4e36bafae7d1e320f483",
              "IPY_MODEL_2cb01ed7af10430f9bd9ca0a80126d52"
            ],
            "layout": "IPY_MODEL_97af8a406905420996aeb7cfeaaf1d40"
          }
        },
        "b9d90e03762e4e36bafae7d1e320f483": {
          "model_module": "@jupyter-widgets/controls",
          "model_name": "DatePickerModel",
          "model_module_version": "1.5.0",
          "state": {
            "_dom_classes": [],
            "_model_module": "@jupyter-widgets/controls",
            "_model_module_version": "1.5.0",
            "_model_name": "DatePickerModel",
            "_view_count": null,
            "_view_module": "@jupyter-widgets/controls",
            "_view_module_version": "1.5.0",
            "_view_name": "DatePickerView",
            "description": "Select Date",
            "description_tooltip": null,
            "disabled": false,
            "layout": "IPY_MODEL_7d21a8e3eaf14ae686a81095b6951092",
            "style": "IPY_MODEL_240242a5ae66465d8f4a4f462ba671fd",
            "value": {
              "year": 2025,
              "month": 5,
              "date": 21
            }
          }
        },
        "2cb01ed7af10430f9bd9ca0a80126d52": {
          "model_module": "@jupyter-widgets/controls",
          "model_name": "ButtonModel",
          "model_module_version": "1.5.0",
          "state": {
            "_dom_classes": [],
            "_model_module": "@jupyter-widgets/controls",
            "_model_module_version": "1.5.0",
            "_model_name": "ButtonModel",
            "_view_count": null,
            "_view_module": "@jupyter-widgets/controls",
            "_view_module_version": "1.5.0",
            "_view_name": "ButtonView",
            "button_style": "success",
            "description": "Get Prediction",
            "disabled": false,
            "icon": "",
            "layout": "IPY_MODEL_47fbd5cabcae47c6a03e1f6017b079b7",
            "style": "IPY_MODEL_333a3ed0e9d642af9591079c1475e5fb",
            "tooltip": "Click to get the forecast for the selected date"
          }
        },
        "97af8a406905420996aeb7cfeaaf1d40": {
          "model_module": "@jupyter-widgets/base",
          "model_name": "LayoutModel",
          "model_module_version": "1.2.0",
          "state": {
            "_model_module": "@jupyter-widgets/base",
            "_model_module_version": "1.2.0",
            "_model_name": "LayoutModel",
            "_view_count": null,
            "_view_module": "@jupyter-widgets/base",
            "_view_module_version": "1.2.0",
            "_view_name": "LayoutView",
            "align_content": null,
            "align_items": null,
            "align_self": null,
            "border": null,
            "bottom": null,
            "display": null,
            "flex": null,
            "flex_flow": null,
            "grid_area": null,
            "grid_auto_columns": null,
            "grid_auto_flow": null,
            "grid_auto_rows": null,
            "grid_column": null,
            "grid_gap": null,
            "grid_row": null,
            "grid_template_areas": null,
            "grid_template_columns": null,
            "grid_template_rows": null,
            "height": null,
            "justify_content": null,
            "justify_items": null,
            "left": null,
            "margin": null,
            "max_height": null,
            "max_width": null,
            "min_height": null,
            "min_width": null,
            "object_fit": null,
            "object_position": null,
            "order": null,
            "overflow": null,
            "overflow_x": null,
            "overflow_y": null,
            "padding": null,
            "right": null,
            "top": null,
            "visibility": null,
            "width": null
          }
        },
        "7d21a8e3eaf14ae686a81095b6951092": {
          "model_module": "@jupyter-widgets/base",
          "model_name": "LayoutModel",
          "model_module_version": "1.2.0",
          "state": {
            "_model_module": "@jupyter-widgets/base",
            "_model_module_version": "1.2.0",
            "_model_name": "LayoutModel",
            "_view_count": null,
            "_view_module": "@jupyter-widgets/base",
            "_view_module_version": "1.2.0",
            "_view_name": "LayoutView",
            "align_content": null,
            "align_items": null,
            "align_self": null,
            "border": null,
            "bottom": null,
            "display": null,
            "flex": null,
            "flex_flow": null,
            "grid_area": null,
            "grid_auto_columns": null,
            "grid_auto_flow": null,
            "grid_auto_rows": null,
            "grid_column": null,
            "grid_gap": null,
            "grid_row": null,
            "grid_template_areas": null,
            "grid_template_columns": null,
            "grid_template_rows": null,
            "height": null,
            "justify_content": null,
            "justify_items": null,
            "left": null,
            "margin": null,
            "max_height": null,
            "max_width": null,
            "min_height": null,
            "min_width": null,
            "object_fit": null,
            "object_position": null,
            "order": null,
            "overflow": null,
            "overflow_x": null,
            "overflow_y": null,
            "padding": null,
            "right": null,
            "top": null,
            "visibility": null,
            "width": null
          }
        },
        "240242a5ae66465d8f4a4f462ba671fd": {
          "model_module": "@jupyter-widgets/controls",
          "model_name": "DescriptionStyleModel",
          "model_module_version": "1.5.0",
          "state": {
            "_model_module": "@jupyter-widgets/controls",
            "_model_module_version": "1.5.0",
            "_model_name": "DescriptionStyleModel",
            "_view_count": null,
            "_view_module": "@jupyter-widgets/base",
            "_view_module_version": "1.2.0",
            "_view_name": "StyleView",
            "description_width": ""
          }
        },
        "47fbd5cabcae47c6a03e1f6017b079b7": {
          "model_module": "@jupyter-widgets/base",
          "model_name": "LayoutModel",
          "model_module_version": "1.2.0",
          "state": {
            "_model_module": "@jupyter-widgets/base",
            "_model_module_version": "1.2.0",
            "_model_name": "LayoutModel",
            "_view_count": null,
            "_view_module": "@jupyter-widgets/base",
            "_view_module_version": "1.2.0",
            "_view_name": "LayoutView",
            "align_content": null,
            "align_items": null,
            "align_self": null,
            "border": null,
            "bottom": null,
            "display": null,
            "flex": null,
            "flex_flow": null,
            "grid_area": null,
            "grid_auto_columns": null,
            "grid_auto_flow": null,
            "grid_auto_rows": null,
            "grid_column": null,
            "grid_gap": null,
            "grid_row": null,
            "grid_template_areas": null,
            "grid_template_columns": null,
            "grid_template_rows": null,
            "height": null,
            "justify_content": null,
            "justify_items": null,
            "left": null,
            "margin": null,
            "max_height": null,
            "max_width": null,
            "min_height": null,
            "min_width": null,
            "object_fit": null,
            "object_position": null,
            "order": null,
            "overflow": null,
            "overflow_x": null,
            "overflow_y": null,
            "padding": null,
            "right": null,
            "top": null,
            "visibility": null,
            "width": null
          }
        },
        "333a3ed0e9d642af9591079c1475e5fb": {
          "model_module": "@jupyter-widgets/controls",
          "model_name": "ButtonStyleModel",
          "model_module_version": "1.5.0",
          "state": {
            "_model_module": "@jupyter-widgets/controls",
            "_model_module_version": "1.5.0",
            "_model_name": "ButtonStyleModel",
            "_view_count": null,
            "_view_module": "@jupyter-widgets/base",
            "_view_module_version": "1.2.0",
            "_view_name": "StyleView",
            "button_color": null,
            "font_weight": ""
          }
        },
        "43cf5576556747c9b58f3599682c7f55": {
          "model_module": "@jupyter-widgets/output",
          "model_name": "OutputModel",
          "model_module_version": "1.0.0",
          "state": {
            "_dom_classes": [],
            "_model_module": "@jupyter-widgets/output",
            "_model_module_version": "1.0.0",
            "_model_name": "OutputModel",
            "_view_count": null,
            "_view_module": "@jupyter-widgets/output",
            "_view_module_version": "1.0.0",
            "_view_name": "OutputView",
            "layout": "IPY_MODEL_340df55b9de3413b95f043f5b947a463",
            "msg_id": "",
            "outputs": [
              {
                "output_type": "stream",
                "name": "stdout",
                "text": [
                  "Predicted Complaints for 2025-06-19: 284\n"
                ]
              }
            ]
          }
        },
        "340df55b9de3413b95f043f5b947a463": {
          "model_module": "@jupyter-widgets/base",
          "model_name": "LayoutModel",
          "model_module_version": "1.2.0",
          "state": {
            "_model_module": "@jupyter-widgets/base",
            "_model_module_version": "1.2.0",
            "_model_name": "LayoutModel",
            "_view_count": null,
            "_view_module": "@jupyter-widgets/base",
            "_view_module_version": "1.2.0",
            "_view_name": "LayoutView",
            "align_content": null,
            "align_items": null,
            "align_self": null,
            "border": null,
            "bottom": null,
            "display": null,
            "flex": null,
            "flex_flow": null,
            "grid_area": null,
            "grid_auto_columns": null,
            "grid_auto_flow": null,
            "grid_auto_rows": null,
            "grid_column": null,
            "grid_gap": null,
            "grid_row": null,
            "grid_template_areas": null,
            "grid_template_columns": null,
            "grid_template_rows": null,
            "height": null,
            "justify_content": null,
            "justify_items": null,
            "left": null,
            "margin": null,
            "max_height": null,
            "max_width": null,
            "min_height": null,
            "min_width": null,
            "object_fit": null,
            "object_position": null,
            "order": null,
            "overflow": null,
            "overflow_x": null,
            "overflow_y": null,
            "padding": null,
            "right": null,
            "top": null,
            "visibility": null,
            "width": null
          }
        }
      }
    }
  },
  "cells": [
    {
      "cell_type": "code",
      "execution_count": 5,
      "metadata": {
        "id": "4k6OCpMsTA29"
      },
      "outputs": [],
      "source": [
        "import pandas as pd\n",
        "import numpy as np\n",
        "import matplotlib.pyplot as plt\n",
        "from sklearn.preprocessing import MinMaxScaler\n",
        "from sklearn.metrics import mean_absolute_error, mean_squared_error\n",
        "import ipywidgets as widgets\n",
        "from IPython.display import display, clear_output"
      ]
    },
    {
      "cell_type": "code",
      "source": [
        "df = pd.read_csv('/content/sample_data/2025-grievances.csv')\n",
        "df['Grievance Date'] = pd.to_datetime(df['Grievance Date'])"
      ],
      "metadata": {
        "id": "P5dWIKi4THid"
      },
      "execution_count": 6,
      "outputs": []
    },
    {
      "cell_type": "code",
      "source": [],
      "metadata": {
        "id": "qSJfYEiUMc9_"
      },
      "execution_count": 6,
      "outputs": []
    },
    {
      "cell_type": "code",
      "source": [
        "\n",
        "mask = df['Sub Category'] == 'Street Light Not Working'\n",
        "df_sub = df[mask].copy()"
      ],
      "metadata": {
        "id": "4Sv2KRe3TlrO"
      },
      "execution_count": 7,
      "outputs": []
    },
    {
      "cell_type": "code",
      "source": [
        "daily = df_sub.groupby(df_sub[\"Grievance Date\"].dt.date).size().reset_index(name='count')\n",
        "daily['date'] = pd.to_datetime(daily['Grievance Date'])\n",
        "daily = daily[['date', 'count']]"
      ],
      "metadata": {
        "id": "P8LMzJUTTnVI"
      },
      "execution_count": 8,
      "outputs": []
    },
    {
      "cell_type": "code",
      "source": [
        "full_range = pd.date_range(daily['date'].min(), daily['date'].max(), freq='D')\n",
        "daily = daily.set_index('date').reindex(full_range, fill_value=0).rename_axis('date').reset_index()"
      ],
      "metadata": {
        "id": "C8qauPNXTpTW"
      },
      "execution_count": 9,
      "outputs": []
    },
    {
      "cell_type": "code",
      "source": [
        "daily['month'] = daily['date'].dt.month\n",
        "daily['month_sin'] = np.sin(2 * np.pi * daily['month'] / 12)\n",
        "daily['month_cos'] = np.cos(2 * np.pi * daily['month'] / 12)\n",
        "daily['dayofweek'] = daily['date'].dt.dayofweek\n",
        "daily['dow_sin'] = np.sin(2 * np.pi * daily['dayofweek'] / 7)\n",
        "daily['dow_cos'] = np.cos(2 * np.pi * daily['dayofweek'] / 7)\n",
        "festival_dates = ['2025-03-29', '2025-04-12', '2025-05-16']\n",
        "daily['is_festival'] = daily['date'].astype(str).isin(festival_dates).astype(int)\n",
        "daily['count_lag1'] = daily['count'].shift(1).fillna(0)\n",
        "daily['count_lag2'] = daily['count'].shift(2).fillna(0)\n",
        "daily['log_count'] = np.log1p(daily['count'])\n",
        "daily['count_lag7'] = daily['count'].shift(7).fillna(0)      # last week\n",
        "daily['count_rolling_max7'] = daily['count'].rolling(7, min_periods=1).max().shift(1).fillna(0)\n",
        "daily['count_rolling_sum7'] = daily['count'].rolling(7, min_periods=1).sum().shift(1).fillna(0)\n"
      ],
      "metadata": {
        "id": "RcLWApSSqMVi"
      },
      "execution_count": 10,
      "outputs": []
    },
    {
      "cell_type": "code",
      "source": [
        "holiday_dates = [\n",
        "    '2025-01-01','2025-01-14','2025-01-26','2025-03-29','2025-04-12',\n",
        "    '2025-05-01','2025-08-15','2025-10-02','2025-11-01','2025-12-25'\n",
        "]"
      ],
      "metadata": {
        "id": "0jiycAPhi7bs"
      },
      "execution_count": 11,
      "outputs": []
    },
    {
      "cell_type": "code",
      "source": [
        "daily['is_holiday'] = daily['date'].astype(str).isin(holiday_dates).astype(int)\n",
        "\n",
        "np.random.seed(0)\n",
        "daily['rain_mm'] = np.random.gamma(3, 4, size=len(daily))"
      ],
      "metadata": {
        "id": "wluXljeroyO4"
      },
      "execution_count": 12,
      "outputs": []
    },
    {
      "cell_type": "code",
      "source": [
        "features = [\n",
        "    'count', 'count_lag1', 'count_lag2', 'count_lag7',\n",
        "    'count_rolling_max7', 'count_rolling_sum7',\n",
        "    'month_sin', 'month_cos', 'dow_sin', 'dow_cos',\n",
        "    'is_festival', 'is_holiday', 'rain_mm'\n",
        "]"
      ],
      "metadata": {
        "id": "l49vTN-XTxsD"
      },
      "execution_count": 13,
      "outputs": []
    },
    {
      "cell_type": "code",
      "source": [
        "X_all = daily[features].values.astype(float)\n",
        "y_all = daily['log_count'].values.astype(float)  # Target is log(count)"
      ],
      "metadata": {
        "id": "oJL_wMfWeNry"
      },
      "execution_count": 14,
      "outputs": []
    },
    {
      "cell_type": "code",
      "source": [
        "def create_sequences(X, y, seq_len):\n",
        "    X_seq, y_seq = [], []\n",
        "    for i in range(len(X) - seq_len):\n",
        "        X_seq.append(X[i:i+seq_len])\n",
        "        y_seq.append(y[i+seq_len])\n",
        "    return np.array(X_seq), np.array(y_seq)"
      ],
      "metadata": {
        "id": "ddu2RQpueTNr"
      },
      "execution_count": 15,
      "outputs": []
    },
    {
      "cell_type": "code",
      "source": [
        "sequence_length = 30 # shorter window for sharper learning"
      ],
      "metadata": {
        "id": "IbRMK0jbUaRH"
      },
      "execution_count": 16,
      "outputs": []
    },
    {
      "cell_type": "code",
      "source": [
        "X_seq, y_seq = create_sequences(X_all, y_all, sequence_length)"
      ],
      "metadata": {
        "id": "xwRWpT1MT8Ae"
      },
      "execution_count": 17,
      "outputs": []
    },
    {
      "cell_type": "code",
      "source": [
        "split = int(0.8*len(X_seq))\n",
        "X_train, X_test = X_seq[:split], X_seq[split:]\n",
        "y_train, y_test = y_seq[:split], y_seq[split:]"
      ],
      "metadata": {
        "id": "bVC2ttggUeHH"
      },
      "execution_count": 18,
      "outputs": []
    },
    {
      "cell_type": "code",
      "source": [
        "# --- Scale only on training data ---\n",
        "feature_scaler = MinMaxScaler()\n",
        "X_train_reshape = X_train.reshape(-1, X_train.shape[2])\n",
        "X_test_reshape = X_test.reshape(-1, X_test.shape[2])\n",
        "X_train_scaled = feature_scaler.fit_transform(X_train_reshape).reshape(X_train.shape)\n",
        "X_test_scaled = feature_scaler.transform(X_test_reshape).reshape(X_test.shape)\n"
      ],
      "metadata": {
        "id": "rJeONLqAUoQe"
      },
      "execution_count": 19,
      "outputs": []
    },
    {
      "cell_type": "code",
      "source": [
        "target_scaler = MinMaxScaler()\n",
        "y_train_scaled = target_scaler.fit_transform(y_train.reshape(-1,1)).flatten()\n",
        "y_test_scaled = target_scaler.transform(y_test.reshape(-1,1)).flatten()"
      ],
      "metadata": {
        "id": "wg2jZK-9UqJ8"
      },
      "execution_count": 20,
      "outputs": []
    },
    {
      "cell_type": "code",
      "source": [
        "import tensorflow as tf\n",
        "from tensorflow.keras.models import Sequential\n",
        "from tensorflow.keras.layers import LSTM, Dense, Dropout\n",
        "from tensorflow.keras.callbacks import EarlyStopping"
      ],
      "metadata": {
        "id": "033baMSmUxNR"
      },
      "execution_count": 21,
      "outputs": []
    },
    {
      "cell_type": "code",
      "source": [
        "tf.random.set_seed(42)\n",
        "model = Sequential([\n",
        "    LSTM(128, return_sequences=True, input_shape=(X_train_scaled.shape[1], X_train_scaled.shape[2])),\n",
        "    Dropout(0.15),\n",
        "    LSTM(64, return_sequences=True),\n",
        "    Dropout(0.10),\n",
        "    LSTM(32),\n",
        "    Dense(32, activation=\"relu\"),\n",
        "    Dense(1)\n",
        "])"
      ],
      "metadata": {
        "colab": {
          "base_uri": "https://localhost:8080/"
        },
        "id": "hdGHGNIJU1Dm",
        "outputId": "bde802c8-47b6-41a6-c92a-bd6596849642"
      },
      "execution_count": 22,
      "outputs": [
        {
          "output_type": "stream",
          "name": "stderr",
          "text": [
            "/usr/local/lib/python3.12/dist-packages/keras/src/layers/rnn/rnn.py:199: UserWarning: Do not pass an `input_shape`/`input_dim` argument to a layer. When using Sequential models, prefer using an `Input(shape)` object as the first layer in the model instead.\n",
            "  super().__init__(**kwargs)\n"
          ]
        }
      ]
    },
    {
      "cell_type": "code",
      "source": [
        "model.compile(optimizer='adam', loss='mae')\n",
        "es = EarlyStopping(patience=15, restore_best_weights=True)"
      ],
      "metadata": {
        "id": "Xv6rcGxSU8WD"
      },
      "execution_count": 23,
      "outputs": []
    },
    {
      "cell_type": "code",
      "source": [
        "history = model.fit(\n",
        "    X_train_scaled, y_train_scaled,\n",
        "    epochs=300,             # up to 300 epochs (the model will stop early if it plateaus)\n",
        "    batch_size=4,           # small batch for small data, improves generalization\n",
        "    validation_data=(X_test_scaled, y_test_scaled),\n",
        "    callbacks=[es],\n",
        "    verbose=1\n",
        ")"
      ],
      "metadata": {
        "colab": {
          "base_uri": "https://localhost:8080/"
        },
        "id": "y5i6Vg8LVB15",
        "outputId": "a71613be-fd9b-4694-d551-aa72a5dd9410"
      },
      "execution_count": 24,
      "outputs": [
        {
          "output_type": "stream",
          "name": "stdout",
          "text": [
            "Epoch 1/300\n",
            "\u001b[1m25/25\u001b[0m \u001b[32m━━━━━━━━━━━━━━━━━━━━\u001b[0m\u001b[37m\u001b[0m \u001b[1m7s\u001b[0m 72ms/step - loss: 0.2066 - val_loss: 0.1451\n",
            "Epoch 2/300\n",
            "\u001b[1m25/25\u001b[0m \u001b[32m━━━━━━━━━━━━━━━━━━━━\u001b[0m\u001b[37m\u001b[0m \u001b[1m2s\u001b[0m 46ms/step - loss: 0.1422 - val_loss: 0.1639\n",
            "Epoch 3/300\n",
            "\u001b[1m25/25\u001b[0m \u001b[32m━━━━━━━━━━━━━━━━━━━━\u001b[0m\u001b[37m\u001b[0m \u001b[1m1s\u001b[0m 46ms/step - loss: 0.1469 - val_loss: 0.1449\n",
            "Epoch 4/300\n",
            "\u001b[1m25/25\u001b[0m \u001b[32m━━━━━━━━━━━━━━━━━━━━\u001b[0m\u001b[37m\u001b[0m \u001b[1m2s\u001b[0m 70ms/step - loss: 0.1642 - val_loss: 0.1390\n",
            "Epoch 5/300\n",
            "\u001b[1m25/25\u001b[0m \u001b[32m━━━━━━━━━━━━━━━━━━━━\u001b[0m\u001b[37m\u001b[0m \u001b[1m2s\u001b[0m 70ms/step - loss: 0.1558 - val_loss: 0.1732\n",
            "Epoch 6/300\n",
            "\u001b[1m25/25\u001b[0m \u001b[32m━━━━━━━━━━━━━━━━━━━━\u001b[0m\u001b[37m\u001b[0m \u001b[1m2s\u001b[0m 56ms/step - loss: 0.1626 - val_loss: 0.2900\n",
            "Epoch 7/300\n",
            "\u001b[1m25/25\u001b[0m \u001b[32m━━━━━━━━━━━━━━━━━━━━\u001b[0m\u001b[37m\u001b[0m \u001b[1m1s\u001b[0m 45ms/step - loss: 0.1431 - val_loss: 0.2547\n",
            "Epoch 8/300\n",
            "\u001b[1m25/25\u001b[0m \u001b[32m━━━━━━━━━━━━━━━━━━━━\u001b[0m\u001b[37m\u001b[0m \u001b[1m1s\u001b[0m 46ms/step - loss: 0.1396 - val_loss: 0.2587\n",
            "Epoch 9/300\n",
            "\u001b[1m25/25\u001b[0m \u001b[32m━━━━━━━━━━━━━━━━━━━━\u001b[0m\u001b[37m\u001b[0m \u001b[1m1s\u001b[0m 47ms/step - loss: 0.1395 - val_loss: 0.2566\n",
            "Epoch 10/300\n",
            "\u001b[1m25/25\u001b[0m \u001b[32m━━━━━━━━━━━━━━━━━━━━\u001b[0m\u001b[37m\u001b[0m \u001b[1m1s\u001b[0m 47ms/step - loss: 0.1437 - val_loss: 0.2533\n",
            "Epoch 11/300\n",
            "\u001b[1m25/25\u001b[0m \u001b[32m━━━━━━━━━━━━━━━━━━━━\u001b[0m\u001b[37m\u001b[0m \u001b[1m1s\u001b[0m 47ms/step - loss: 0.1424 - val_loss: 0.2467\n",
            "Epoch 12/300\n",
            "\u001b[1m25/25\u001b[0m \u001b[32m━━━━━━━━━━━━━━━━━━━━\u001b[0m\u001b[37m\u001b[0m \u001b[1m1s\u001b[0m 46ms/step - loss: 0.1405 - val_loss: 0.2615\n",
            "Epoch 13/300\n",
            "\u001b[1m25/25\u001b[0m \u001b[32m━━━━━━━━━━━━━━━━━━━━\u001b[0m\u001b[37m\u001b[0m \u001b[1m2s\u001b[0m 69ms/step - loss: 0.1391 - val_loss: 0.2429\n",
            "Epoch 14/300\n",
            "\u001b[1m25/25\u001b[0m \u001b[32m━━━━━━━━━━━━━━━━━━━━\u001b[0m\u001b[37m\u001b[0m \u001b[1m2s\u001b[0m 79ms/step - loss: 0.1408 - val_loss: 0.2455\n",
            "Epoch 15/300\n",
            "\u001b[1m25/25\u001b[0m \u001b[32m━━━━━━━━━━━━━━━━━━━━\u001b[0m\u001b[37m\u001b[0m \u001b[1m1s\u001b[0m 46ms/step - loss: 0.1364 - val_loss: 0.2425\n",
            "Epoch 16/300\n",
            "\u001b[1m25/25\u001b[0m \u001b[32m━━━━━━━━━━━━━━━━━━━━\u001b[0m\u001b[37m\u001b[0m \u001b[1m1s\u001b[0m 47ms/step - loss: 0.1431 - val_loss: 0.2421\n",
            "Epoch 17/300\n",
            "\u001b[1m25/25\u001b[0m \u001b[32m━━━━━━━━━━━━━━━━━━━━\u001b[0m\u001b[37m\u001b[0m \u001b[1m1s\u001b[0m 47ms/step - loss: 0.1339 - val_loss: 0.1722\n",
            "Epoch 18/300\n",
            "\u001b[1m25/25\u001b[0m \u001b[32m━━━━━━━━━━━━━━━━━━━━\u001b[0m\u001b[37m\u001b[0m \u001b[1m1s\u001b[0m 46ms/step - loss: 0.1380 - val_loss: 0.2528\n",
            "Epoch 19/300\n",
            "\u001b[1m25/25\u001b[0m \u001b[32m━━━━━━━━━━━━━━━━━━━━\u001b[0m\u001b[37m\u001b[0m \u001b[1m1s\u001b[0m 49ms/step - loss: 0.1384 - val_loss: 0.2362\n"
          ]
        }
      ]
    },
    {
      "cell_type": "code",
      "source": [
        "# --- PREDICT AND INVERSE TRANSFORM ---\n",
        "y_pred_scaled = model.predict(X_test_scaled)\n",
        "y_pred_log = target_scaler.inverse_transform(y_pred_scaled).flatten()\n",
        "y_test_log = target_scaler.inverse_transform(y_test_scaled.reshape(-1,1)).flatten()\n",
        "y_pred_counts = np.expm1(y_pred_log)\n",
        "y_test_counts = np.expm1(y_test_log)\n",
        "dates_for_test = daily['date'][split+sequence_length:]\n",
        "\n",
        "print(\"First 10 predicted count:\", y_pred_counts[:10])\n",
        "print(\"First 10 actual count:\", y_test_counts[:10])"
      ],
      "metadata": {
        "colab": {
          "base_uri": "https://localhost:8080/"
        },
        "id": "fo8bkOaMZcaf",
        "outputId": "47592a3b-4893-41ff-ceef-246ca7109044"
      },
      "execution_count": 25,
      "outputs": [
        {
          "output_type": "stream",
          "name": "stdout",
          "text": [
            "\u001b[1m1/1\u001b[0m \u001b[32m━━━━━━━━━━━━━━━━━━━━\u001b[0m\u001b[37m\u001b[0m \u001b[1m1s\u001b[0m 501ms/step\n",
            "First 10 predicted count: [279.58765 279.686   279.73566 279.62177 279.4901  279.42084 279.53506\n",
            " 279.65897 279.82175 280.0878 ]\n",
            "First 10 actual count: [343. 389. 370. 330. 307. 319. 226. 363. 312. 269.]\n"
          ]
        }
      ]
    },
    {
      "cell_type": "code",
      "source": [
        "mae = mean_absolute_error(y_test_counts, y_pred_counts)\n",
        "rmse = np.sqrt(mean_squared_error(y_test_counts, y_pred_counts))\n",
        "mape = np.mean(np.abs((y_test_counts - y_pred_counts) / (y_test_counts + 1e-6))) * 100\n",
        "print(f\"MAE: {mae:.2f}, RMSE: {rmse:.2f}, MAPE: {mape:.2f}%\")"
      ],
      "metadata": {
        "colab": {
          "base_uri": "https://localhost:8080/"
        },
        "id": "mCke6XMaclpl",
        "outputId": "7ad2f09d-337e-4c9f-b18f-30473b091c47"
      },
      "execution_count": 26,
      "outputs": [
        {
          "output_type": "stream",
          "name": "stdout",
          "text": [
            "MAE: 48.84, RMSE: 55.54, MAPE: 16.56%\n"
          ]
        }
      ]
    },
    {
      "cell_type": "code",
      "source": [
        "window_size = 30\n",
        "rolling_mean = pd.Series(y_test_counts).rolling(window_size, min_periods=1).mean()\n",
        "rolling_std = pd.Series(y_test_counts).rolling(window_size, min_periods=1).std()\n",
        "spike_thresh = rolling_mean + 1.0 * rolling_std"
      ],
      "metadata": {
        "id": "j2HjR_gSjeyf"
      },
      "execution_count": 27,
      "outputs": []
    },
    {
      "cell_type": "code",
      "source": [
        "model_spike = y_pred_counts > spike_thresh.values\n",
        "actual_spike = y_test_counts > spike_thresh.values"
      ],
      "metadata": {
        "id": "o8WtlQuWjhBa"
      },
      "execution_count": 28,
      "outputs": []
    },
    {
      "cell_type": "code",
      "source": [
        "TP = np.sum(model_spike & actual_spike)\n",
        "FP = np.sum(model_spike & (~actual_spike))\n",
        "FN = np.sum((~model_spike) & actual_spike)"
      ],
      "metadata": {
        "id": "6BS3-VRNjjNl"
      },
      "execution_count": 29,
      "outputs": []
    },
    {
      "cell_type": "code",
      "source": [
        "precision = TP / (TP + FP + 1e-8)\n",
        "recall = TP / (TP + FN + 1e-8)\n",
        "print(f\"Spike Alert Precision: {precision:.2f}\")\n",
        "print(f\"Spike Detection Recall: {recall:.2f}\")"
      ],
      "metadata": {
        "colab": {
          "base_uri": "https://localhost:8080/"
        },
        "id": "ynsypMz1jljU",
        "outputId": "11cbc34e-8050-474b-f1c5-2f34a7690e2d"
      },
      "execution_count": 30,
      "outputs": [
        {
          "output_type": "stream",
          "name": "stdout",
          "text": [
            "Spike Alert Precision: 0.00\n",
            "Spike Detection Recall: 0.00\n"
          ]
        }
      ]
    },
    {
      "cell_type": "code",
      "source": [
        "#simulating a surge\n",
        "daily.loc[daily['date'] == pd.to_datetime('2025-06-15'), 'count'] = 2000"
      ],
      "metadata": {
        "id": "8nlH4FNNq_vW"
      },
      "execution_count": 31,
      "outputs": []
    },
    {
      "cell_type": "code",
      "source": [
        "def interactive_forecast(start_date, days_ahead):\n",
        "    # Ensure types\n",
        "    start_date = pd.to_datetime(start_date)\n",
        "    # Find the last available index <= start_date\n",
        "    idx = daily[daily['date'] == start_date].index\n",
        "    if len(idx) == 0 or idx[0] < sequence_length:\n",
        "        print(\"Insufficient history before selected start date.\")\n",
        "        return\n",
        "    idx = idx[0]\n",
        "    # Prepare last sequence up to the selected start date\n",
        "    last_seq = X_all[idx-sequence_length:idx]\n",
        "    last_seq_scaled = feature_scaler.transform(last_seq)\n",
        "    current_seq = last_seq_scaled.copy()\n",
        "    future_preds = []\n",
        "    for i in range(days_ahead):\n",
        "        pred_scaled = model.predict(current_seq[np.newaxis, :, :])[0, 0]\n",
        "        pred_log = target_scaler.inverse_transform([[pred_scaled]])[0, 0]\n",
        "        pred_count = np.expm1(pred_log)\n",
        "        future_preds.append(pred_count)\n",
        "        # next input row: only count and lags move\n",
        "        new_row = current_seq[-1].copy()\n",
        "        new_row[0] = pred_count  # 'count'\n",
        "        new_row[1] = current_seq[-1][0]  # count_lag1 = previous count\n",
        "        new_row[2] = current_seq[-1][1]  # count_lag2 = previous count_lag1\n",
        "        history_counts = list(daily['count'].iloc[idx-sequence_length:idx]) + future_preds\n",
        "        last7 = history_counts[-7:]\n",
        "\n",
        "        new_row[4] = max(last7)     # count_rolling_max7\n",
        "        new_row[5] = sum(last7)\n",
        "        # Optionally you could update features (weather, festival) using calendar, etc\n",
        "        current_seq = np.roll(current_seq, -1, axis=0)\n",
        "        current_seq[-1] = new_row\n",
        "\n",
        "    future_dates = pd.date_range(start=start_date + pd.Timedelta(days=1), periods=days_ahead)\n",
        "\n",
        "    # Compute spike threshold based on the history window prior to the forecast\n",
        "    hist_counts = daily['count'][:idx]\n",
        "    rolling_mean = hist_counts.rolling(sequence_length, min_periods=1).mean().iloc[-1]\n",
        "    rolling_std = hist_counts.rolling(sequence_length, min_periods=1).std().iloc[-1]\n",
        "    spike_thresh = rolling_mean + 2 * rolling_std\n",
        "\n",
        "    # Mark spikes\n",
        "    spikes = [d for d, v in zip(future_dates, future_preds) if v > spike_thresh]\n",
        "\n",
        "    # Plot actual up to start_date, then prediction\n",
        "    plt.figure(figsize=(12,5))\n",
        "    plt.plot(daily['date'], daily['count'], label='Actual (historical)')\n",
        "    plt.plot(future_dates, future_preds, label='Forecast', linestyle='--')\n",
        "    plt.axhline(spike_thresh, color='red', linestyle=':', label='Spike Threshold')\n",
        "    if spikes:\n",
        "        plt.scatter(spikes, [future_preds[list(future_dates).index(d)] for d in spikes],\n",
        "                    color='orange', marker='^', label='Predicted Spike')\n",
        "    plt.title(f\"Forecast from {start_date.date()} for {days_ahead} days\")\n",
        "    plt.xlabel('Date')\n",
        "    plt.ylabel('Complaints (Forecasted)')\n",
        "    plt.legend()\n",
        "    plt.grid()\n",
        "    plt.show()\n",
        "    print(f\"[Info] Spike threshold for this window: {spike_thresh:.1f}\")\n",
        "    if spikes:\n",
        "        print(\"Predicted spike dates:\", [d.date() for d in spikes])\n",
        "    else:\n",
        "        print(\"No spikes predicted.\")\n",
        "\n",
        "# User widget interface\n",
        "min_date = daily['date'].iloc[sequence_length]\n",
        "max_date = daily['date'].iloc[-1]\n",
        "date_picker = widgets.DatePicker(\n",
        "    description='Start Date',\n",
        "    value=max_date,\n",
        "    disabled=False\n",
        ")\n",
        "days_slider = widgets.IntSlider(\n",
        "    value=30,\n",
        "    min=1,\n",
        "    max=60,\n",
        "    step=1,\n",
        "    description='Days Ahead'\n",
        ")\n",
        "\n",
        "ui = widgets.HBox([date_picker, days_slider])\n",
        "\n",
        "def on_value_change(change):\n",
        "    clear_output(wait=True)\n",
        "    display(ui)\n",
        "    interactive_forecast(date_picker.value, days_slider.value)\n",
        "\n",
        "date_picker.observe(on_value_change, names='value')\n",
        "days_slider.observe(on_value_change, names='value')\n",
        "\n",
        "display(ui)\n",
        "interactive_forecast(date_picker.value, days_slider.value)"
      ],
      "metadata": {
        "colab": {
          "base_uri": "https://localhost:8080/",
          "height": 1000,
          "referenced_widgets": [
            "1fc897aba28b4d96932f3748de9305ff",
            "b3433ec714ab4c9da3302d5117edacf3",
            "77a25af557a6419585faa3c5a67db51c",
            "ece6c4fd3063428193b69914266b05f0",
            "c8fbb1d735ce441fa082f2cb0e8969b0",
            "b93ac3cffa8845ecb5841dceffe5e206",
            "2e974408363e45779944da7e3ba3d110",
            "09d9e804ff264416baece28328bbb535"
          ]
        },
        "id": "UWLbI_YUkdg0",
        "outputId": "357856cf-740a-4b72-d70e-642cbb38f8af"
      },
      "execution_count": 32,
      "outputs": [
        {
          "output_type": "display_data",
          "data": {
            "text/plain": [
              "HBox(children=(DatePicker(value=Timestamp('2025-06-19 00:00:00'), description='Start Date'), IntSlider(value=3…"
            ],
            "application/vnd.jupyter.widget-view+json": {
              "version_major": 2,
              "version_minor": 0,
              "model_id": "1fc897aba28b4d96932f3748de9305ff"
            }
          },
          "metadata": {}
        },
        {
          "output_type": "stream",
          "name": "stdout",
          "text": [
            "\u001b[1m1/1\u001b[0m \u001b[32m━━━━━━━━━━━━━━━━━━━━\u001b[0m\u001b[37m\u001b[0m \u001b[1m1s\u001b[0m 526ms/step\n",
            "\u001b[1m1/1\u001b[0m \u001b[32m━━━━━━━━━━━━━━━━━━━━\u001b[0m\u001b[37m\u001b[0m \u001b[1m0s\u001b[0m 59ms/step\n",
            "\u001b[1m1/1\u001b[0m \u001b[32m━━━━━━━━━━━━━━━━━━━━\u001b[0m\u001b[37m\u001b[0m \u001b[1m0s\u001b[0m 63ms/step\n",
            "\u001b[1m1/1\u001b[0m \u001b[32m━━━━━━━━━━━━━━━━━━━━\u001b[0m\u001b[37m\u001b[0m \u001b[1m0s\u001b[0m 58ms/step\n",
            "\u001b[1m1/1\u001b[0m \u001b[32m━━━━━━━━━━━━━━━━━━━━\u001b[0m\u001b[37m\u001b[0m \u001b[1m0s\u001b[0m 48ms/step\n",
            "\u001b[1m1/1\u001b[0m \u001b[32m━━━━━━━━━━━━━━━━━━━━\u001b[0m\u001b[37m\u001b[0m \u001b[1m0s\u001b[0m 54ms/step\n",
            "\u001b[1m1/1\u001b[0m \u001b[32m━━━━━━━━━━━━━━━━━━━━\u001b[0m\u001b[37m\u001b[0m \u001b[1m0s\u001b[0m 56ms/step\n",
            "\u001b[1m1/1\u001b[0m \u001b[32m━━━━━━━━━━━━━━━━━━━━\u001b[0m\u001b[37m\u001b[0m \u001b[1m0s\u001b[0m 58ms/step\n",
            "\u001b[1m1/1\u001b[0m \u001b[32m━━━━━━━━━━━━━━━━━━━━\u001b[0m\u001b[37m\u001b[0m \u001b[1m0s\u001b[0m 47ms/step\n",
            "\u001b[1m1/1\u001b[0m \u001b[32m━━━━━━━━━━━━━━━━━━━━\u001b[0m\u001b[37m\u001b[0m \u001b[1m0s\u001b[0m 55ms/step\n",
            "\u001b[1m1/1\u001b[0m \u001b[32m━━━━━━━━━━━━━━━━━━━━\u001b[0m\u001b[37m\u001b[0m \u001b[1m0s\u001b[0m 48ms/step\n",
            "\u001b[1m1/1\u001b[0m \u001b[32m━━━━━━━━━━━━━━━━━━━━\u001b[0m\u001b[37m\u001b[0m \u001b[1m0s\u001b[0m 47ms/step\n",
            "\u001b[1m1/1\u001b[0m \u001b[32m━━━━━━━━━━━━━━━━━━━━\u001b[0m\u001b[37m\u001b[0m \u001b[1m0s\u001b[0m 51ms/step\n",
            "\u001b[1m1/1\u001b[0m \u001b[32m━━━━━━━━━━━━━━━━━━━━\u001b[0m\u001b[37m\u001b[0m \u001b[1m0s\u001b[0m 45ms/step\n",
            "\u001b[1m1/1\u001b[0m \u001b[32m━━━━━━━━━━━━━━━━━━━━\u001b[0m\u001b[37m\u001b[0m \u001b[1m0s\u001b[0m 45ms/step\n",
            "\u001b[1m1/1\u001b[0m \u001b[32m━━━━━━━━━━━━━━━━━━━━\u001b[0m\u001b[37m\u001b[0m \u001b[1m0s\u001b[0m 48ms/step\n",
            "\u001b[1m1/1\u001b[0m \u001b[32m━━━━━━━━━━━━━━━━━━━━\u001b[0m\u001b[37m\u001b[0m \u001b[1m0s\u001b[0m 44ms/step\n",
            "\u001b[1m1/1\u001b[0m \u001b[32m━━━━━━━━━━━━━━━━━━━━\u001b[0m\u001b[37m\u001b[0m \u001b[1m0s\u001b[0m 52ms/step\n",
            "\u001b[1m1/1\u001b[0m \u001b[32m━━━━━━━━━━━━━━━━━━━━\u001b[0m\u001b[37m\u001b[0m \u001b[1m0s\u001b[0m 50ms/step\n",
            "\u001b[1m1/1\u001b[0m \u001b[32m━━━━━━━━━━━━━━━━━━━━\u001b[0m\u001b[37m\u001b[0m \u001b[1m0s\u001b[0m 54ms/step\n",
            "\u001b[1m1/1\u001b[0m \u001b[32m━━━━━━━━━━━━━━━━━━━━\u001b[0m\u001b[37m\u001b[0m \u001b[1m0s\u001b[0m 46ms/step\n",
            "\u001b[1m1/1\u001b[0m \u001b[32m━━━━━━━━━━━━━━━━━━━━\u001b[0m\u001b[37m\u001b[0m \u001b[1m0s\u001b[0m 56ms/step\n",
            "\u001b[1m1/1\u001b[0m \u001b[32m━━━━━━━━━━━━━━━━━━━━\u001b[0m\u001b[37m\u001b[0m \u001b[1m0s\u001b[0m 78ms/step\n",
            "\u001b[1m1/1\u001b[0m \u001b[32m━━━━━━━━━━━━━━━━━━━━\u001b[0m\u001b[37m\u001b[0m \u001b[1m0s\u001b[0m 70ms/step\n",
            "\u001b[1m1/1\u001b[0m \u001b[32m━━━━━━━━━━━━━━━━━━━━\u001b[0m\u001b[37m\u001b[0m \u001b[1m0s\u001b[0m 77ms/step\n",
            "\u001b[1m1/1\u001b[0m \u001b[32m━━━━━━━━━━━━━━━━━━━━\u001b[0m\u001b[37m\u001b[0m \u001b[1m0s\u001b[0m 72ms/step\n",
            "\u001b[1m1/1\u001b[0m \u001b[32m━━━━━━━━━━━━━━━━━━━━\u001b[0m\u001b[37m\u001b[0m \u001b[1m0s\u001b[0m 66ms/step\n",
            "\u001b[1m1/1\u001b[0m \u001b[32m━━━━━━━━━━━━━━━━━━━━\u001b[0m\u001b[37m\u001b[0m \u001b[1m0s\u001b[0m 76ms/step\n",
            "\u001b[1m1/1\u001b[0m \u001b[32m━━━━━━━━━━━━━━━━━━━━\u001b[0m\u001b[37m\u001b[0m \u001b[1m0s\u001b[0m 69ms/step\n",
            "\u001b[1m1/1\u001b[0m \u001b[32m━━━━━━━━━━━━━━━━━━━━\u001b[0m\u001b[37m\u001b[0m \u001b[1m0s\u001b[0m 69ms/step\n"
          ]
        },
        {
          "output_type": "display_data",
          "data": {
            "text/plain": [
              "<Figure size 1200x500 with 1 Axes>"
            ],
            "image/png": "[encoded data removed]"
          },
          "metadata": {}
        },
        {
          "output_type": "stream",
          "name": "stdout",
          "text": [
            "[Info] Spike threshold for this window: 992.5\n",
            "No spikes predicted.\n"
          ]
        }
      ]
    },
    {
      "cell_type": "code",
      "source": [
        "plt.figure(figsize=(12,5))\n",
        "plt.plot(dates_for_test, y_test_counts, label='Actual')\n",
        "plt.plot(dates_for_test, y_pred_counts, label='Predicted', linestyle='--')\n",
        "plt.plot(dates_for_test, spike_thresh, label='Spike Threshold', linestyle=':')\n",
        "plt.scatter(np.array(dates_for_test)[model_spike], y_pred_counts[model_spike], color='red', label='Predicted Spike', marker='^')\n",
        "plt.scatter(np.array(dates_for_test)[actual_spike], y_test_counts[actual_spike], color='orange', label='Actual Spike', marker='o')\n",
        "plt.legend()\n",
        "plt.title('LSTM Forecast with Holidays, Weather & Spike Alerts')\n",
        "plt.xlabel('Date')\n",
        "plt.ylabel('Daily Complaints')\n",
        "plt.grid()\n",
        "plt.show()"
      ],
      "metadata": {
        "colab": {
          "base_uri": "https://localhost:8080/",
          "height": 422
        },
        "id": "uLThOu5Qjou_",
        "outputId": "1b707cc7-21e4-495e-e8db-2ea2256de26d"
      },
      "execution_count": 33,
      "outputs": [
        {
          "output_type": "display_data",
          "data": {
            "text/plain": [
              "<Figure size 1200x500 with 1 Axes>"
            ],
            "image/png": "[encoded data removed]"
          },
          "metadata": {}
        }
      ]
    },
    {
      "cell_type": "code",
      "source": [
        "print(\"Final train loss:\", history.history['loss'][-1])\n",
        "print(\"Final val loss:\", history.history['val_loss'][-1])\n"
      ],
      "metadata": {
        "colab": {
          "base_uri": "https://localhost:8080/"
        },
        "id": "Svy-820Jf5_r",
        "outputId": "59874d10-bf3e-46cf-d0e8-018d98068257"
      },
      "execution_count": 34,
      "outputs": [
        {
          "output_type": "stream",
          "name": "stdout",
          "text": [
            "Final train loss: 0.14783048629760742\n",
            "Final val loss: 0.2361961156129837\n"
          ]
        }
      ]
    },
    {
      "cell_type": "code",
      "source": [
        "from datetime import datetime"
      ],
      "metadata": {
        "id": "JsBnyDNRMeXf"
      },
      "execution_count": 35,
      "outputs": []
    },
    {
      "cell_type": "code",
      "source": [
        "print(\"\\n\" + \"=\"*50)\n",
        "print(\"Get a Prediction for a Specific Date\")\n",
        "print(\"=\"*50)"
      ],
      "metadata": {
        "colab": {
          "base_uri": "https://localhost:8080/"
        },
        "id": "g8FTaQfVMkbL",
        "outputId": "1364c958-81da-4189-917f-1231bca0412b"
      },
      "execution_count": 36,
      "outputs": [
        {
          "output_type": "stream",
          "name": "stdout",
          "text": [
            "\n",
            "==================================================\n",
            "Get a Prediction for a Specific Date\n",
            "==================================================\n"
          ]
        }
      ]
    },
    {
      "cell_type": "code",
      "source": [
        "def predict_single_date(target_date):\n",
        "    target_date = pd.to_datetime(target_date)\n",
        "\n",
        "    # Find the index for the date *before* the target date to create the input sequence\n",
        "    idx_end = daily[daily['date'] == target_date - pd.Timedelta(days=1)].index\n",
        "\n",
        "    if len(idx_end) == 0:\n",
        "        print(f\"Error: Data for the day before {target_date.date()} is not available.\")\n",
        "        return\n",
        "\n",
        "    idx_end = idx_end[0]\n",
        "    idx_start = idx_end - sequence_length + 1\n",
        "\n",
        "    if idx_start < 0:\n",
        "        print(f\"Error: Not enough historical data ({sequence_length} days required) before {target_date.date()}.\")\n",
        "        return\n",
        "\n",
        "    # Get the last known sequence of features\n",
        "    last_seq = X_all[idx_start:idx_end + 1]\n",
        "\n",
        "    # Scale the sequence and predict\n",
        "    last_seq_scaled = feature_scaler.transform(last_seq)\n",
        "    pred_scaled = model.predict(last_seq_scaled[np.newaxis, :, :])[0, 0]\n",
        "\n",
        "    # Inverse transform to get the final count\n",
        "    pred_log = target_scaler.inverse_transform([[pred_scaled]])[0, 0]\n",
        "    pred_count = np.expm1(pred_log)\n",
        "\n",
        "    # Display the result in the output area\n",
        "    output_area.clear_output()\n",
        "    with output_area:\n",
        "        print(f\"Predicted Complaints for {target_date.date()}: {pred_count:.0f}\")\n"
      ],
      "metadata": {
        "id": "n5rPmENEMqHb"
      },
      "execution_count": 37,
      "outputs": []
    },
    {
      "cell_type": "code",
      "source": [
        "min_date_for_prediction = daily['date'].iloc[sequence_length]\n",
        "max_date_for_prediction = daily['date'].iloc[-1] + pd.Timedelta(days=1) # Allow predicting one day ahead\n",
        "\n",
        "single_date_picker = widgets.DatePicker(\n",
        "    description='Select Date',\n",
        "    value=max_date_for_prediction,\n",
        "    disabled=False\n",
        ")\n",
        "\n",
        "predict_button = widgets.Button(\n",
        "    description='Get Prediction',\n",
        "    button_style='success',\n",
        "    tooltip='Click to get the forecast for the selected date'\n",
        ")\n",
        "\n",
        "# An output widget to display the prediction result cleanly\n",
        "output_area = widgets.Output()"
      ],
      "metadata": {
        "id": "ApeegPBpMtdV"
      },
      "execution_count": 38,
      "outputs": []
    },
    {
      "cell_type": "code",
      "source": [
        "def on_button_click(b):\n",
        "    predict_single_date(single_date_picker.value)\n",
        "\n",
        "predict_button.on_click(on_button_click)\n",
        "\n",
        "# Display the new widgets\n",
        "display(widgets.HBox([single_date_picker, predict_button]))\n",
        "display(output_area)"
      ],
      "metadata": {
        "colab": {
          "base_uri": "https://localhost:8080/",
          "height": 136,
          "referenced_widgets": [
            "61a97875068d4ce089d262fdea339f2c",
            "b9d90e03762e4e36bafae7d1e320f483",
            "2cb01ed7af10430f9bd9ca0a80126d52",
            "97af8a406905420996aeb7cfeaaf1d40",
            "7d21a8e3eaf14ae686a81095b6951092",
            "240242a5ae66465d8f4a4f462ba671fd",
            "47fbd5cabcae47c6a03e1f6017b079b7",
            "333a3ed0e9d642af9591079c1475e5fb",
            "43cf5576556747c9b58f3599682c7f55",
            "340df55b9de3413b95f043f5b947a463"
          ]
        },
        "id": "SyizjtmENCR-",
        "outputId": "b6371371-b6cb-4b8d-eb09-f2f03ec8a995"
      },
      "execution_count": 39,
      "outputs": [
        {
          "output_type": "display_data",
          "data": {
            "text/plain": [
              "HBox(children=(DatePicker(value=Timestamp('2025-06-20 00:00:00'), description='Select Date'), Button(button_st…"
            ],
            "application/vnd.jupyter.widget-view+json": {
              "version_major": 2,
              "version_minor": 0,
              "model_id": "61a97875068d4ce089d262fdea339f2c"
            }
          },
          "metadata": {}
        },
        {
          "output_type": "display_data",
          "data": {
            "text/plain": [
              "Output()"
            ],
            "application/vnd.jupyter.widget-view+json": {
              "version_major": 2,
              "version_minor": 0,
              "model_id": "43cf5576556747c9b58f3599682c7f55"
            }
          },
          "metadata": {}
        },
        {
          "output_type": "stream",
          "name": "stdout",
          "text": [
            "\u001b[1m1/1\u001b[0m \u001b[32m━━━━━━━━━━━━━━━━━━━━\u001b[0m\u001b[37m\u001b[0m \u001b[1m0s\u001b[0m 56ms/step\n",
            "\u001b[1m1/1\u001b[0m \u001b[32m━━━━━━━━━━━━━━━━━━━━\u001b[0m\u001b[37m\u001b[0m \u001b[1m0s\u001b[0m 77ms/step\n",
            "Error: Data for the day before 2025-06-27 is not available.\n",
            "Error: Data for the day before 2025-06-21 is not available.\n"
          ]
        }
      ]
    }
  ]
}