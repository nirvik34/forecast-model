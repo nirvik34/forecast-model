{
  "cells": [
    {
      "cell_type": "code",
      "execution_count": 1,
      "metadata": {
        "id": "haRJ5HT91TkO"
      },
      "outputs": [],
      "source": [
        "import pandas as pd\n",
        "import numpy as np\n",
        "import matplotlib.pyplot as plt\n",
        "from sklearn.preprocessing import MinMaxScaler\n",
        "from tensorflow.keras import Sequential, Input\n",
        "from tensorflow.keras.layers import LSTM, Dense, Dropout\n",
        "from tensorflow.keras.callbacks import EarlyStopping\n",
        "import tensorflow as tf"
      ]
    },
    {
      "cell_type": "code",
      "execution_count": 3,
      "metadata": {
        "id": "IirgPQqzBct6"
      },
      "outputs": [],
      "source": [
        "CSV_PATH = './2025-grievances.csv'\n",
        "SEQUENCE_LENGTH = 30\n",
        "MIN_SAMPLES = 80\n",
        "TF_RANDOM_SEED = 42\n",
        "np.random.seed(0)\n",
        "tf.random.set_seed(TF_RANDOM_SEED)"
      ]
    },
    {
      "cell_type": "code",
      "execution_count": 4,
      "metadata": {
        "id": "UszCs97zBf73"
      },
      "outputs": [],
      "source": [
        "problem_types = [\n",
        "    'Street Light Not Working',\n",
        "    'Garbage dumping in vacant sites',\n",
        "    'Potholes',\n",
        "    'Garbage dump',\n",
        "    'Others',\n",
        "    'water stagnation',\n",
        "    'Cleanliness'\n",
        "]\n",
        "\n"
      ]
    },
    {
      "cell_type": "code",
      "execution_count": 5,
      "metadata": {
        "id": "8OeUT_7W7VPv"
      },
      "outputs": [],
      "source": [
        "df = pd.read_csv(CSV_PATH, usecols=['Sub Category', 'Grievance Date'])\n",
        "df['Grievance Date'] = pd.to_datetime(df['Grievance Date'])\n",
        "df = df[df['Sub Category'].isin(problem_types)]\n",
        "\n",
        "MODEL_CACHE = {}"
      ]
    },
    {
      "cell_type": "code",
      "execution_count": 6,
      "metadata": {
        "id": "hT02DlOGBjqv"
      },
      "outputs": [],
      "source": [
        "def prepare_daily_data(df_sub: pd.DataFrame):\n",
        "    daily = df_sub.groupby(df_sub[\"Grievance Date\"].dt.date).size().reset_index(name='count')\n",
        "    daily['date'] = pd.to_datetime(daily['Grievance Date'])\n",
        "    daily = daily[['date', 'count']]\n",
        "    full_range = pd.date_range(daily['date'].min(), daily['date'].max(), freq='D')\n",
        "    daily = daily.set_index('date').reindex(full_range, fill_value=0).rename_axis('date').reset_index()\n",
        "\n",
        "    daily['month'] = daily['date'].dt.month\n",
        "    daily['month_sin'] = np.sin(2 * np.pi * daily['month'] / 12)\n",
        "    daily['month_cos'] = np.cos(2 * np.pi * daily['month'] / 12)\n",
        "    daily['dayofweek'] = daily['date'].dt.dayofweek\n",
        "    daily['dow_sin'] = np.sin(2 * np.pi * daily['dayofweek'] / 7)\n",
        "    daily['dow_cos'] = np.cos(2 * np.pi * daily['dayofweek'] / 7)\n",
        "    daily['is_festival'] = 0\n",
        "    daily['is_holiday'] = 0\n",
        "    np.random.seed(0)\n",
        "    daily['rain_mm'] = np.random.gamma(3, 4, size=len(daily))\n",
        "    daily['count_lag1'] = daily['count'].shift(1).fillna(0)\n",
        "    daily['count_lag2'] = daily['count'].shift(2).fillna(0)\n",
        "    daily['log_count'] = np.log1p(daily['count'])\n",
        "    daily['count_lag7'] = daily['count'].shift(7).fillna(0)\n",
        "    daily['count_rolling_max7'] = daily['count'].rolling(7, min_periods=1).max().shift(1).fillna(0)\n",
        "    daily['count_rolling_sum7'] = daily['count'].rolling(7, min_periods=1).sum().shift(1).fillna(0)\n",
        "\n",
        "    features = [\n",
        "        'count', 'count_lag1', 'count_lag2', 'count_lag7',\n",
        "        'count_rolling_max7', 'count_rolling_sum7',\n",
        "        'month_sin', 'month_cos', 'dow_sin', 'dow_cos',\n",
        "        'is_festival', 'is_holiday', 'rain_mm'\n",
        "    ]\n",
        "    return daily, features\n",
        "\n",
        "def create_sequences(X, y, seq_len):\n",
        "    X_seq, y_seq = [], []\n",
        "    for i in range(len(X) - seq_len):\n",
        "        X_seq.append(X[i:i+seq_len])\n",
        "        y_seq.append(y[i+seq_len])\n",
        "    return np.array(X_seq), np.array(y_seq)\n"
      ]
    },
    {
      "cell_type": "code",
      "execution_count": 7,
      "metadata": {
        "colab": {
          "base_uri": "https://localhost:8080/"
        },
        "id": "VE_Gyo0DC_rA",
        "outputId": "62e5bcb4-3838-4541-96f0-4f1ad7d37128"
      },
      "outputs": [
        {
          "name": "stderr",
          "output_type": "stream",
          "text": [
            "d:\\Projects\\HACKATHONS\\SIH\\ML\\myenv\\Lib\\site-packages\\keras\\src\\callbacks\\early_stopping.py:99: UserWarning: Early stopping conditioned on metric `val_loss` which is not available. Available metrics are: loss\n",
            "  current = self.get_monitor_value(logs)\n",
            "d:\\Projects\\HACKATHONS\\SIH\\ML\\myenv\\Lib\\site-packages\\keras\\src\\callbacks\\early_stopping.py:99: UserWarning: Early stopping conditioned on metric `val_loss` which is not available. Available metrics are: loss\n",
            "  current = self.get_monitor_value(logs)\n",
            "d:\\Projects\\HACKATHONS\\SIH\\ML\\myenv\\Lib\\site-packages\\keras\\src\\callbacks\\early_stopping.py:99: UserWarning: Early stopping conditioned on metric `val_loss` which is not available. Available metrics are: loss\n",
            "  current = self.get_monitor_value(logs)\n",
            "d:\\Projects\\HACKATHONS\\SIH\\ML\\myenv\\Lib\\site-packages\\keras\\src\\callbacks\\early_stopping.py:99: UserWarning: Early stopping conditioned on metric `val_loss` which is not available. Available metrics are: loss\n",
            "  current = self.get_monitor_value(logs)\n",
            "d:\\Projects\\HACKATHONS\\SIH\\ML\\myenv\\Lib\\site-packages\\keras\\src\\callbacks\\early_stopping.py:99: UserWarning: Early stopping conditioned on metric `val_loss` which is not available. Available metrics are: loss\n",
            "  current = self.get_monitor_value(logs)\n",
            "d:\\Projects\\HACKATHONS\\SIH\\ML\\myenv\\Lib\\site-packages\\keras\\src\\callbacks\\early_stopping.py:99: UserWarning: Early stopping conditioned on metric `val_loss` which is not available. Available metrics are: loss\n",
            "  current = self.get_monitor_value(logs)\n",
            "d:\\Projects\\HACKATHONS\\SIH\\ML\\myenv\\Lib\\site-packages\\keras\\src\\callbacks\\early_stopping.py:99: UserWarning: Early stopping conditioned on metric `val_loss` which is not available. Available metrics are: loss\n",
            "  current = self.get_monitor_value(logs)\n"
          ]
        }
      ],
      "source": [
        "for problem in problem_types:\n",
        "    df_sub = df[df['Sub Category'] == problem]\n",
        "    if df_sub.empty:\n",
        "        MODEL_CACHE[problem] = {\"error\": \"No data available\"}\n",
        "        continue\n",
        "\n",
        "    daily, features = prepare_daily_data(df_sub)\n",
        "    X_all = daily[features].values.astype(float)\n",
        "    y_all = daily['log_count'].values.astype(float)\n",
        "\n",
        "    X_seq, y_seq = create_sequences(X_all, y_all, SEQUENCE_LENGTH)\n",
        "    if len(X_seq) < MIN_SAMPLES:\n",
        "        MODEL_CACHE[problem] = {\"error\": \"Not enough data\"}\n",
        "        continue\n",
        "\n",
        "    split = int(0.8 * len(X_seq))\n",
        "    X_train, y_train = X_seq[:split], y_seq[:split]\n",
        "\n",
        "    f_scaler = MinMaxScaler()\n",
        "    X_train_scaled = f_scaler.fit_transform(X_train.reshape(-1, X_train.shape[2])).reshape(X_train.shape)\n",
        "\n",
        "    t_scaler = MinMaxScaler()\n",
        "    y_train_scaled = t_scaler.fit_transform(y_train.reshape(-1, 1)).flatten()\n",
        "\n",
        "    tf.random.set_seed(TF_RANDOM_SEED)\n",
        "    model = Sequential([\n",
        "        Input(shape=(X_train_scaled.shape[1], X_train_scaled.shape[2])),\n",
        "        LSTM(64, return_sequences=True),\n",
        "        Dropout(0.12),\n",
        "        LSTM(32),\n",
        "        Dense(16, activation='relu'),\n",
        "        Dense(1)\n",
        "    ])\n",
        "    model.compile(optimizer='adam', loss='mae')\n",
        "    es = EarlyStopping(patience=10, restore_best_weights=True)\n",
        "    model.fit(X_train_scaled, y_train_scaled, epochs=5, batch_size=8, verbose=0, callbacks=[es])\n",
        "\n",
        "    MODEL_CACHE[problem] = {\n",
        "        \"model\": model,\n",
        "        \"f_scaler\": f_scaler,\n",
        "        \"t_scaler\": t_scaler,\n",
        "        \"features\": features,\n",
        "        \"daily\": daily\n",
        "    }"
      ]
    },
    {
      "cell_type": "code",
      "execution_count": 8,
      "metadata": {
        "colab": {
          "base_uri": "https://localhost:8080/"
        },
        "id": "D-Cc8URZDUOj",
        "outputId": "5dd7912e-ce5e-4141-ce73-a9855f970897"
      },
      "outputs": [],
      "source": [
        "user_date = input(\"Enter prediction date (YYYY-MM-DD): \")\n",
        "try:\n",
        "    user_date = pd.to_datetime(user_date)\n",
        "except:\n",
        "    raise ValueError(\"Invalid date format. Use YYYY-MM-DD.\")"
      ]
    },
    {
      "cell_type": "code",
      "execution_count": 9,
      "metadata": {
        "colab": {
          "base_uri": "https://localhost:8080/",
          "height": 544
        },
        "id": "8Ul9eRsrDtCS",
        "outputId": "e932b115-6244-4d6a-9ac9-ddcb2b33b55b"
      },
      "outputs": [
        {
          "name": "stderr",
          "output_type": "stream",
          "text": [
            "C:\\Users\\nirvi\\AppData\\Local\\Temp\\ipykernel_23540\\1832612470.py:41: FutureWarning: Setting an item of incompatible dtype is deprecated and will raise an error in a future version of pandas. Value '230.90350915156853' has dtype incompatible with int64, please explicitly cast to a compatible dtype first.\n",
            "  daily.loc[daily['date'] == next_date, 'count'] = pred_count\n",
            "C:\\Users\\nirvi\\AppData\\Local\\Temp\\ipykernel_23540\\1832612470.py:41: FutureWarning: Setting an item of incompatible dtype is deprecated and will raise an error in a future version of pandas. Value '12.411057173922805' has dtype incompatible with int64, please explicitly cast to a compatible dtype first.\n",
            "  daily.loc[daily['date'] == next_date, 'count'] = pred_count\n",
            "C:\\Users\\nirvi\\AppData\\Local\\Temp\\ipykernel_23540\\1832612470.py:41: FutureWarning: Setting an item of incompatible dtype is deprecated and will raise an error in a future version of pandas. Value '40.34120342485363' has dtype incompatible with int64, please explicitly cast to a compatible dtype first.\n",
            "  daily.loc[daily['date'] == next_date, 'count'] = pred_count\n",
            "C:\\Users\\nirvi\\AppData\\Local\\Temp\\ipykernel_23540\\1832612470.py:41: FutureWarning: Setting an item of incompatible dtype is deprecated and will raise an error in a future version of pandas. Value '76.13644517240257' has dtype incompatible with int64, please explicitly cast to a compatible dtype first.\n",
            "  daily.loc[daily['date'] == next_date, 'count'] = pred_count\n",
            "C:\\Users\\nirvi\\AppData\\Local\\Temp\\ipykernel_23540\\1832612470.py:41: FutureWarning: Setting an item of incompatible dtype is deprecated and will raise an error in a future version of pandas. Value '12.703543421654818' has dtype incompatible with int64, please explicitly cast to a compatible dtype first.\n",
            "  daily.loc[daily['date'] == next_date, 'count'] = pred_count\n",
            "C:\\Users\\nirvi\\AppData\\Local\\Temp\\ipykernel_23540\\1832612470.py:41: FutureWarning: Setting an item of incompatible dtype is deprecated and will raise an error in a future version of pandas. Value '1400.002324755756' has dtype incompatible with int64, please explicitly cast to a compatible dtype first.\n",
            "  daily.loc[daily['date'] == next_date, 'count'] = pred_count\n",
            "C:\\Users\\nirvi\\AppData\\Local\\Temp\\ipykernel_23540\\1832612470.py:41: FutureWarning: Setting an item of incompatible dtype is deprecated and will raise an error in a future version of pandas. Value '0.008636029315255749' has dtype incompatible with int64, please explicitly cast to a compatible dtype first.\n",
            "  daily.loc[daily['date'] == next_date, 'count'] = pred_count\n"
          ]
        },
        {
          "data": {
            "text/html": [
              "<div>\n",
              "<style scoped>\n",
              "    .dataframe tbody tr th:only-of-type {\n",
              "        vertical-align: middle;\n",
              "    }\n",
              "\n",
              "    .dataframe tbody tr th {\n",
              "        vertical-align: top;\n",
              "    }\n",
              "\n",
              "    .dataframe thead th {\n",
              "        text-align: right;\n",
              "    }\n",
              "</style>\n",
              "<table border=\"1\" class=\"dataframe\">\n",
              "  <thead>\n",
              "    <tr style=\"text-align: right;\">\n",
              "      <th></th>\n",
              "      <th>problem</th>\n",
              "      <th>predicted_percentage</th>\n",
              "    </tr>\n",
              "  </thead>\n",
              "  <tbody>\n",
              "    <tr>\n",
              "      <th>0</th>\n",
              "      <td>Street Light Not Working</td>\n",
              "      <td>19.71</td>\n",
              "    </tr>\n",
              "    <tr>\n",
              "      <th>1</th>\n",
              "      <td>Garbage dumping in vacant sites</td>\n",
              "      <td>0.00</td>\n",
              "    </tr>\n",
              "    <tr>\n",
              "      <th>2</th>\n",
              "      <td>Potholes</td>\n",
              "      <td>4.41</td>\n",
              "    </tr>\n",
              "    <tr>\n",
              "      <th>3</th>\n",
              "      <td>Garbage dump</td>\n",
              "      <td>1.35</td>\n",
              "    </tr>\n",
              "    <tr>\n",
              "      <th>4</th>\n",
              "      <td>Others</td>\n",
              "      <td>0.14</td>\n",
              "    </tr>\n",
              "    <tr>\n",
              "      <th>5</th>\n",
              "      <td>water stagnation</td>\n",
              "      <td>74.38</td>\n",
              "    </tr>\n",
              "    <tr>\n",
              "      <th>6</th>\n",
              "      <td>Cleanliness</td>\n",
              "      <td>0.02</td>\n",
              "    </tr>\n",
              "  </tbody>\n",
              "</table>\n",
              "</div>"
            ],
            "text/plain": [
              "                           problem  predicted_percentage\n",
              "0         Street Light Not Working                 19.71\n",
              "1  Garbage dumping in vacant sites                  0.00\n",
              "2                         Potholes                  4.41\n",
              "3                     Garbage dump                  1.35\n",
              "4                           Others                  0.14\n",
              "5                 water stagnation                 74.38\n",
              "6                      Cleanliness                  0.02"
            ]
          },
          "metadata": {},
          "output_type": "display_data"
        }
      ],
      "source": [
        "results = []\n",
        "for problem, entry in MODEL_CACHE.items():\n",
        "    if \"error\" in entry:\n",
        "        results.append({\"problem\": problem, \"predicted_percentage\": None, \"error\": entry[\"error\"]})\n",
        "        continue\n",
        "\n",
        "    model = entry[\"model\"]\n",
        "    daily = entry[\"daily\"].copy()\n",
        "    features = entry[\"features\"]\n",
        "    f_scaler = entry[\"f_scaler\"]\n",
        "    t_scaler = entry[\"t_scaler\"]\n",
        "\n",
        "    # Extend daily data until user_date\n",
        "    while daily['date'].iloc[-1] < user_date:\n",
        "        next_date = daily['date'].iloc[-1] + pd.Timedelta(days=1)\n",
        "        next_row = daily.iloc[-1:].copy()\n",
        "        next_row['date'] = next_date\n",
        "        next_row['count'] = 0\n",
        "        daily = pd.concat([daily, next_row], ignore_index=True)\n",
        "\n",
        "        # recompute features\n",
        "        daily['month'] = daily['date'].dt.month\n",
        "        daily['month_sin'] = np.sin(2 * np.pi * daily['month'] / 12)\n",
        "        daily['month_cos'] = np.cos(2 * np.pi * daily['month'] / 12)\n",
        "        daily['dayofweek'] = daily['date'].dt.dayofweek\n",
        "        daily['dow_sin'] = np.sin(2 * np.pi * daily['dayofweek'] / 7)\n",
        "        daily['dow_cos'] = np.cos(2 * np.pi * daily['dayofweek'] / 7)\n",
        "        daily['count_lag1'] = daily['count'].shift(1).fillna(0)\n",
        "        daily['count_lag2'] = daily['count'].shift(2).fillna(0)\n",
        "        daily['count_lag7'] = daily['count'].shift(7).fillna(0)\n",
        "        daily['count_rolling_max7'] = daily['count'].rolling(7, min_periods=1).max().shift(1).fillna(0)\n",
        "        daily['count_rolling_sum7'] = daily['count'].rolling(7, min_periods=1).sum().shift(1).fillna(0)\n",
        "        daily['log_count'] = np.log1p(daily['count'])\n",
        "\n",
        "        X_all = daily[features].values.astype(float)\n",
        "        last_seq = X_all[-SEQUENCE_LENGTH:]\n",
        "        last_seq_scaled = f_scaler.transform(last_seq)\n",
        "        pred_scaled = model.predict(last_seq_scaled[np.newaxis, :, :], verbose=0)[0, 0]\n",
        "        pred_log = t_scaler.inverse_transform([[pred_scaled]])[0, 0]\n",
        "        pred_count = np.expm1(pred_log)\n",
        "        daily.loc[daily['date'] == next_date, 'count'] = pred_count\n",
        "\n",
        "    pred_value = daily.loc[daily['date'] == user_date, 'count'].values[0]\n",
        "    results.append({\n",
        "        \"problem\": problem,\n",
        "        \"predicted_complaints\": max(pred_value, 0)  # avoid negative\n",
        "    })\n",
        "\n",
        "results_df = pd.DataFrame(results)\n",
        "total = results_df[\"predicted_complaints\"].sum()\n",
        "results_df[\"predicted_percentage\"] = (results_df[\"predicted_complaints\"] / total * 100).round(2)\n",
        "\n",
        "display(results_df[[\"problem\", \"predicted_percentage\"]])\n"
      ]
    },
    {
      "cell_type": "code",
      "execution_count": 10,
      "metadata": {
        "colab": {
          "base_uri": "https://localhost:8080/",
          "height": 607
        },
        "id": "RwRga4MuD04W",
        "outputId": "5cd26d9e-a1cc-46d7-f6ed-2b6c7003a730"
      },
      "outputs": [
        {
          "data": {
            "image/png": "[encoded data removed]",
            "text/plain": [
              "<Figure size 700x700 with 1 Axes>"
            ]
          },
          "metadata": {},
          "output_type": "display_data"
        }
      ],
      "source": [
        "plt.figure(figsize=(7, 7))\n",
        "plt.pie(\n",
        "    results_df[\"predicted_percentage\"],\n",
        "    labels=results_df[\"problem\"],\n",
        "    autopct='%1.1f%%',\n",
        "    startangle=140\n",
        ")\n",
        "plt.title(f\"Predicted Complaint Distribution on {user_date.date()}\")\n",
        "plt.axis('equal')\n",
        "plt.show()"
      ]
    }
  ],
  "metadata": {
    "colab": {
      "provenance": []
    },
    "kernelspec": {
      "display_name": "myenv",
      "language": "python",
      "name": "python3"
    },
    "language_info": {
      "codemirror_mode": {
        "name": "ipython",
        "version": 3
      },
      "file_extension": ".py",
      "mimetype": "text/x-python",
      "name": "python",
      "nbconvert_exporter": "python",
      "pygments_lexer": "ipython3",
      "version": "3.12.3"
    }
  },
  "nbformat": 4,
  "nbformat_minor": 0
}
